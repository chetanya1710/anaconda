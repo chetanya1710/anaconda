{
 "cells": [
  {
   "cell_type": "code",
   "execution_count": 20,
   "metadata": {},
   "outputs": [],
   "source": [
    "import pandas as pd\n",
    "import os\n",
    "import numpy as np\n",
    "import matplotlib.pyplot as plt\n",
    "from copy import deepcopy"
   ]
  },
  {
   "cell_type": "code",
   "execution_count": 21,
   "metadata": {},
   "outputs": [
    {
     "data": {
      "text/plain": [
       "'/home/devbox2/chetanya/dataSheets'"
      ]
     },
     "execution_count": 21,
     "metadata": {},
     "output_type": "execute_result"
    }
   ],
   "source": [
    "os.chdir(r'/home/devbox2/chetanya/dataSheets')\n",
    "os.getcwd()"
   ]
  },
  {
   "cell_type": "code",
   "execution_count": 22,
   "metadata": {},
   "outputs": [],
   "source": [
    "retail_new_clean=pd.read_csv('retail_new_clean.csv')"
   ]
  },
  {
   "cell_type": "code",
   "execution_count": 23,
   "metadata": {},
   "outputs": [
    {
     "data": {
      "text/plain": [
       "<matplotlib.axes._subplots.AxesSubplot at 0x7f34adfbab38>"
      ]
     },
     "execution_count": 23,
     "metadata": {},
     "output_type": "execute_result"
    },
    {
     "data": {
      "image/png": "[encoded data removed]",
      "text/plain": [
       "<Figure size 432x288 with 1 Axes>"
      ]
     },
     "metadata": {},
     "output_type": "display_data"
    }
   ],
   "source": [
    "retail_new_clean['UnitPrice'].plot(kind='kde')"
   ]
  },
  {
   "cell_type": "code",
   "execution_count": 6,
   "metadata": {},
   "outputs": [
    {
     "data": {
      "text/plain": [
       "count    363096.000000\n",
       "mean          2.880246\n",
       "std           4.024197\n",
       "min           0.001000\n",
       "25%           1.250000\n",
       "50%           1.950000\n",
       "75%           3.750000\n",
       "max         649.500000\n",
       "Name: UnitPrice, dtype: float64"
      ]
     },
     "execution_count": 6,
     "metadata": {},
     "output_type": "execute_result"
    }
   ],
   "source": [
    "retail_new_clean['UnitPrice'].describe()"
   ]
  },
  {
   "cell_type": "code",
   "execution_count": 7,
   "metadata": {},
   "outputs": [],
   "source": [
    "retail_new_clean_upfilter = retail_new_clean[retail_new_clean['UnitPrice']<=16.95]"
   ]
  },
  {
   "cell_type": "code",
   "execution_count": 8,
   "metadata": {},
   "outputs": [
    {
     "data": {
      "text/html": [
       "<div>\n",
       "<style scoped>\n",
       "    .dataframe tbody tr th:only-of-type {\n",
       "        vertical-align: middle;\n",
       "    }\n",
       "\n",
       "    .dataframe tbody tr th {\n",
       "        vertical-align: top;\n",
       "    }\n",
       "\n",
       "    .dataframe thead th {\n",
       "        text-align: right;\n",
       "    }\n",
       "</style>\n",
       "<table border=\"1\" class=\"dataframe\">\n",
       "  <thead>\n",
       "    <tr style=\"text-align: right;\">\n",
       "      <th></th>\n",
       "      <th>InvoiceNo</th>\n",
       "      <th>UnitPrice</th>\n",
       "      <th>CountInvoices</th>\n",
       "      <th>logCountInvoices</th>\n",
       "      <th>logUnitPrice</th>\n",
       "      <th>Cluster_index</th>\n",
       "    </tr>\n",
       "  </thead>\n",
       "  <tbody>\n",
       "    <tr>\n",
       "      <th>count</th>\n",
       "      <td>361645.000000</td>\n",
       "      <td>361645.000000</td>\n",
       "      <td>361645.000000</td>\n",
       "      <td>361645.000000</td>\n",
       "      <td>361645.000000</td>\n",
       "      <td>361645.000000</td>\n",
       "    </tr>\n",
       "    <tr>\n",
       "      <th>mean</th>\n",
       "      <td>560701.170819</td>\n",
       "      <td>2.755359</td>\n",
       "      <td>414.346483</td>\n",
       "      <td>2.436685</td>\n",
       "      <td>0.274193</td>\n",
       "      <td>1.101608</td>\n",
       "    </tr>\n",
       "    <tr>\n",
       "      <th>std</th>\n",
       "      <td>12867.859224</td>\n",
       "      <td>2.654485</td>\n",
       "      <td>375.282629</td>\n",
       "      <td>0.439681</td>\n",
       "      <td>0.386699</td>\n",
       "      <td>0.329519</td>\n",
       "    </tr>\n",
       "    <tr>\n",
       "      <th>min</th>\n",
       "      <td>536366.000000</td>\n",
       "      <td>0.001000</td>\n",
       "      <td>1.000000</td>\n",
       "      <td>0.000000</td>\n",
       "      <td>-3.000000</td>\n",
       "      <td>0.000000</td>\n",
       "    </tr>\n",
       "    <tr>\n",
       "      <th>25%</th>\n",
       "      <td>549730.000000</td>\n",
       "      <td>1.250000</td>\n",
       "      <td>153.000000</td>\n",
       "      <td>2.184691</td>\n",
       "      <td>0.096910</td>\n",
       "      <td>1.000000</td>\n",
       "    </tr>\n",
       "    <tr>\n",
       "      <th>50%</th>\n",
       "      <td>561774.000000</td>\n",
       "      <td>1.950000</td>\n",
       "      <td>301.000000</td>\n",
       "      <td>2.478566</td>\n",
       "      <td>0.290035</td>\n",
       "      <td>1.000000</td>\n",
       "    </tr>\n",
       "    <tr>\n",
       "      <th>75%</th>\n",
       "      <td>571931.000000</td>\n",
       "      <td>3.750000</td>\n",
       "      <td>548.000000</td>\n",
       "      <td>2.738781</td>\n",
       "      <td>0.574031</td>\n",
       "      <td>1.000000</td>\n",
       "    </tr>\n",
       "    <tr>\n",
       "      <th>max</th>\n",
       "      <td>581587.000000</td>\n",
       "      <td>16.950000</td>\n",
       "      <td>2260.000000</td>\n",
       "      <td>3.354108</td>\n",
       "      <td>1.229170</td>\n",
       "      <td>2.000000</td>\n",
       "    </tr>\n",
       "  </tbody>\n",
       "</table>\n",
       "</div>"
      ],
      "text/plain": [
       "           InvoiceNo      UnitPrice  CountInvoices  logCountInvoices  \\\n",
       "count  361645.000000  361645.000000  361645.000000     361645.000000   \n",
       "mean   560701.170819       2.755359     414.346483          2.436685   \n",
       "std     12867.859224       2.654485     375.282629          0.439681   \n",
       "min    536366.000000       0.001000       1.000000          0.000000   \n",
       "25%    549730.000000       1.250000     153.000000          2.184691   \n",
       "50%    561774.000000       1.950000     301.000000          2.478566   \n",
       "75%    571931.000000       3.750000     548.000000          2.738781   \n",
       "max    581587.000000      16.950000    2260.000000          3.354108   \n",
       "\n",
       "        logUnitPrice  Cluster_index  \n",
       "count  361645.000000  361645.000000  \n",
       "mean        0.274193       1.101608  \n",
       "std         0.386699       0.329519  \n",
       "min        -3.000000       0.000000  \n",
       "25%         0.096910       1.000000  \n",
       "50%         0.290035       1.000000  \n",
       "75%         0.574031       1.000000  \n",
       "max         1.229170       2.000000  "
      ]
     },
     "execution_count": 8,
     "metadata": {},
     "output_type": "execute_result"
    }
   ],
   "source": [
    "retail_new_clean_upfilter.describe()"
   ]
  },
  {
   "cell_type": "code",
   "execution_count": 9,
   "metadata": {},
   "outputs": [],
   "source": [
    "retail_new_clean_upfilter_clusterfilter=retail_new_clean_upfilter[retail_new_clean_upfilter['Cluster_index']==0]"
   ]
  },
  {
   "cell_type": "code",
   "execution_count": 10,
   "metadata": {},
   "outputs": [
    {
     "data": {
      "text/html": [
       "<div>\n",
       "<style scoped>\n",
       "    .dataframe tbody tr th:only-of-type {\n",
       "        vertical-align: middle;\n",
       "    }\n",
       "\n",
       "    .dataframe tbody tr th {\n",
       "        vertical-align: top;\n",
       "    }\n",
       "\n",
       "    .dataframe thead th {\n",
       "        text-align: right;\n",
       "    }\n",
       "</style>\n",
       "<table border=\"1\" class=\"dataframe\">\n",
       "  <thead>\n",
       "    <tr style=\"text-align: right;\">\n",
       "      <th></th>\n",
       "      <th>InvoiceNo</th>\n",
       "      <th>UnitPrice</th>\n",
       "      <th>CountInvoices</th>\n",
       "      <th>logCountInvoices</th>\n",
       "      <th>logUnitPrice</th>\n",
       "      <th>Cluster_index</th>\n",
       "    </tr>\n",
       "  </thead>\n",
       "  <tbody>\n",
       "    <tr>\n",
       "      <th>count</th>\n",
       "      <td>3128.000000</td>\n",
       "      <td>3128.000000</td>\n",
       "      <td>3128.000000</td>\n",
       "      <td>3128.000000</td>\n",
       "      <td>3128.000000</td>\n",
       "      <td>3128.0</td>\n",
       "    </tr>\n",
       "    <tr>\n",
       "      <th>mean</th>\n",
       "      <td>556951.100384</td>\n",
       "      <td>3.322303</td>\n",
       "      <td>6.681586</td>\n",
       "      <td>0.759630</td>\n",
       "      <td>0.347630</td>\n",
       "      <td>0.0</td>\n",
       "    </tr>\n",
       "    <tr>\n",
       "      <th>std</th>\n",
       "      <td>14213.093847</td>\n",
       "      <td>2.931324</td>\n",
       "      <td>2.977845</td>\n",
       "      <td>0.270959</td>\n",
       "      <td>0.428958</td>\n",
       "      <td>0.0</td>\n",
       "    </tr>\n",
       "    <tr>\n",
       "      <th>min</th>\n",
       "      <td>536367.000000</td>\n",
       "      <td>0.001000</td>\n",
       "      <td>1.000000</td>\n",
       "      <td>0.000000</td>\n",
       "      <td>-3.000000</td>\n",
       "      <td>0.0</td>\n",
       "    </tr>\n",
       "    <tr>\n",
       "      <th>25%</th>\n",
       "      <td>544042.500000</td>\n",
       "      <td>1.250000</td>\n",
       "      <td>4.000000</td>\n",
       "      <td>0.602060</td>\n",
       "      <td>0.096910</td>\n",
       "      <td>0.0</td>\n",
       "    </tr>\n",
       "    <tr>\n",
       "      <th>50%</th>\n",
       "      <td>554991.000000</td>\n",
       "      <td>2.510000</td>\n",
       "      <td>7.000000</td>\n",
       "      <td>0.845098</td>\n",
       "      <td>0.399674</td>\n",
       "      <td>0.0</td>\n",
       "    </tr>\n",
       "    <tr>\n",
       "      <th>75%</th>\n",
       "      <td>569871.000000</td>\n",
       "      <td>4.250000</td>\n",
       "      <td>9.000000</td>\n",
       "      <td>0.954243</td>\n",
       "      <td>0.628389</td>\n",
       "      <td>0.0</td>\n",
       "    </tr>\n",
       "    <tr>\n",
       "      <th>max</th>\n",
       "      <td>581538.000000</td>\n",
       "      <td>16.950000</td>\n",
       "      <td>11.000000</td>\n",
       "      <td>1.041393</td>\n",
       "      <td>1.229170</td>\n",
       "      <td>0.0</td>\n",
       "    </tr>\n",
       "  </tbody>\n",
       "</table>\n",
       "</div>"
      ],
      "text/plain": [
       "           InvoiceNo    UnitPrice  CountInvoices  logCountInvoices  \\\n",
       "count    3128.000000  3128.000000    3128.000000       3128.000000   \n",
       "mean   556951.100384     3.322303       6.681586          0.759630   \n",
       "std     14213.093847     2.931324       2.977845          0.270959   \n",
       "min    536367.000000     0.001000       1.000000          0.000000   \n",
       "25%    544042.500000     1.250000       4.000000          0.602060   \n",
       "50%    554991.000000     2.510000       7.000000          0.845098   \n",
       "75%    569871.000000     4.250000       9.000000          0.954243   \n",
       "max    581538.000000    16.950000      11.000000          1.041393   \n",
       "\n",
       "       logUnitPrice  Cluster_index  \n",
       "count   3128.000000         3128.0  \n",
       "mean       0.347630            0.0  \n",
       "std        0.428958            0.0  \n",
       "min       -3.000000            0.0  \n",
       "25%        0.096910            0.0  \n",
       "50%        0.399674            0.0  \n",
       "75%        0.628389            0.0  \n",
       "max        1.229170            0.0  "
      ]
     },
     "execution_count": 10,
     "metadata": {},
     "output_type": "execute_result"
    }
   ],
   "source": [
    "retail_new_clean_upfilter_clusterfilter.describe()"
   ]
  },
  {
   "cell_type": "code",
   "execution_count": 31,
   "metadata": {},
   "outputs": [],
   "source": [
    "rateMe=lambda x: (x/16.95)*10"
   ]
  },
  {
   "cell_type": "code",
   "execution_count": 32,
   "metadata": {},
   "outputs": [
    {
     "name": "stderr",
     "output_type": "stream",
     "text": [
      "/home/devbox2/.local/lib/python3.6/site-packages/ipykernel_launcher.py:1: SettingWithCopyWarning: \n",
      "A value is trying to be set on a copy of a slice from a DataFrame.\n",
      "Try using .loc[row_indexer,col_indexer] = value instead\n",
      "\n",
      "See the caveats in the documentation: http://pandas.pydata.org/pandas-docs/stable/indexing.html#indexing-view-versus-copy\n",
      "  \"\"\"Entry point for launching an IPython kernel.\n"
     ]
    }
   ],
   "source": [
    "retail_new_clean_upfilter_clusterfilter['ratings']=retail_new_clean_upfilter_clusterfilter['UnitPrice'].apply(rateMe)"
   ]
  },
  {
   "cell_type": "code",
   "execution_count": 33,
   "metadata": {},
   "outputs": [],
   "source": [
    "#rateMeMore=lambda x:0 if x<2.5 else 1 "
   ]
  },
  {
   "cell_type": "code",
   "execution_count": 34,
   "metadata": {},
   "outputs": [],
   "source": [
    "#retail_new_clean_upfilter_clusterfilter['ratings']=retail_new_clean_upfilter_clusterfilter['ratings'].apply(rateMeMore)"
   ]
  },
  {
   "cell_type": "code",
   "execution_count": 37,
   "metadata": {},
   "outputs": [
    {
     "data": {
      "text/html": [
       "<div>\n",
       "<style scoped>\n",
       "    .dataframe tbody tr th:only-of-type {\n",
       "        vertical-align: middle;\n",
       "    }\n",
       "\n",
       "    .dataframe tbody tr th {\n",
       "        vertical-align: top;\n",
       "    }\n",
       "\n",
       "    .dataframe thead th {\n",
       "        text-align: right;\n",
       "    }\n",
       "</style>\n",
       "<table border=\"1\" class=\"dataframe\">\n",
       "  <thead>\n",
       "    <tr style=\"text-align: right;\">\n",
       "      <th></th>\n",
       "      <th>InvoiceNo</th>\n",
       "      <th>StockCode</th>\n",
       "      <th>Description</th>\n",
       "      <th>UnitPrice</th>\n",
       "      <th>CountInvoices</th>\n",
       "      <th>logCountInvoices</th>\n",
       "      <th>logUnitPrice</th>\n",
       "      <th>Cluster_index</th>\n",
       "      <th>ratings</th>\n",
       "    </tr>\n",
       "  </thead>\n",
       "  <tbody>\n",
       "    <tr>\n",
       "      <th>3484</th>\n",
       "      <td>536367</td>\n",
       "      <td>21777</td>\n",
       "      <td>recipeboxwithmetalheart</td>\n",
       "      <td>7.95</td>\n",
       "      <td>6</td>\n",
       "      <td>0.778151</td>\n",
       "      <td>0.900367</td>\n",
       "      <td>0</td>\n",
       "      <td>4.690265</td>\n",
       "    </tr>\n",
       "    <tr>\n",
       "      <th>3485</th>\n",
       "      <td>536562</td>\n",
       "      <td>21777</td>\n",
       "      <td>recipeboxwithmetalheart</td>\n",
       "      <td>7.95</td>\n",
       "      <td>6</td>\n",
       "      <td>0.778151</td>\n",
       "      <td>0.900367</td>\n",
       "      <td>0</td>\n",
       "      <td>4.690265</td>\n",
       "    </tr>\n",
       "    <tr>\n",
       "      <th>3486</th>\n",
       "      <td>536588</td>\n",
       "      <td>21777</td>\n",
       "      <td>recipeboxwithmetalheart</td>\n",
       "      <td>7.95</td>\n",
       "      <td>6</td>\n",
       "      <td>0.778151</td>\n",
       "      <td>0.900367</td>\n",
       "      <td>0</td>\n",
       "      <td>4.690265</td>\n",
       "    </tr>\n",
       "    <tr>\n",
       "      <th>3487</th>\n",
       "      <td>536592</td>\n",
       "      <td>21777</td>\n",
       "      <td>recipeboxwithmetalheart</td>\n",
       "      <td>7.95</td>\n",
       "      <td>6</td>\n",
       "      <td>0.778151</td>\n",
       "      <td>0.900367</td>\n",
       "      <td>0</td>\n",
       "      <td>4.690265</td>\n",
       "    </tr>\n",
       "    <tr>\n",
       "      <th>3488</th>\n",
       "      <td>537237</td>\n",
       "      <td>21777</td>\n",
       "      <td>recipeboxwithmetalheart</td>\n",
       "      <td>7.95</td>\n",
       "      <td>6</td>\n",
       "      <td>0.778151</td>\n",
       "      <td>0.900367</td>\n",
       "      <td>0</td>\n",
       "      <td>4.690265</td>\n",
       "    </tr>\n",
       "  </tbody>\n",
       "</table>\n",
       "</div>"
      ],
      "text/plain": [
       "      InvoiceNo StockCode              Description  UnitPrice  CountInvoices  \\\n",
       "3484     536367     21777  recipeboxwithmetalheart       7.95              6   \n",
       "3485     536562     21777  recipeboxwithmetalheart       7.95              6   \n",
       "3486     536588     21777  recipeboxwithmetalheart       7.95              6   \n",
       "3487     536592     21777  recipeboxwithmetalheart       7.95              6   \n",
       "3488     537237     21777  recipeboxwithmetalheart       7.95              6   \n",
       "\n",
       "      logCountInvoices  logUnitPrice  Cluster_index   ratings  \n",
       "3484          0.778151      0.900367              0  4.690265  \n",
       "3485          0.778151      0.900367              0  4.690265  \n",
       "3486          0.778151      0.900367              0  4.690265  \n",
       "3487          0.778151      0.900367              0  4.690265  \n",
       "3488          0.778151      0.900367              0  4.690265  "
      ]
     },
     "execution_count": 37,
     "metadata": {},
     "output_type": "execute_result"
    }
   ],
   "source": [
    "retail_new_clean_upfilter_clusterfilter.head()"
   ]
  },
  {
   "cell_type": "code",
   "execution_count": 38,
   "metadata": {},
   "outputs": [],
   "source": [
    "short_data = retail_new_clean_upfilter_clusterfilter.iloc[:,[0,2,8]]"
   ]
  },
  {
   "cell_type": "code",
   "execution_count": null,
   "metadata": {},
   "outputs": [],
   "source": []
  },
  {
   "cell_type": "code",
   "execution_count": 39,
   "metadata": {},
   "outputs": [
    {
     "data": {
      "text/html": [
       "<div>\n",
       "<style scoped>\n",
       "    .dataframe tbody tr th:only-of-type {\n",
       "        vertical-align: middle;\n",
       "    }\n",
       "\n",
       "    .dataframe tbody tr th {\n",
       "        vertical-align: top;\n",
       "    }\n",
       "\n",
       "    .dataframe thead th {\n",
       "        text-align: right;\n",
       "    }\n",
       "</style>\n",
       "<table border=\"1\" class=\"dataframe\">\n",
       "  <thead>\n",
       "    <tr style=\"text-align: right;\">\n",
       "      <th></th>\n",
       "      <th>InvoiceNo</th>\n",
       "      <th>Description</th>\n",
       "      <th>ratings</th>\n",
       "    </tr>\n",
       "  </thead>\n",
       "  <tbody>\n",
       "    <tr>\n",
       "      <th>0</th>\n",
       "      <td>536367</td>\n",
       "      <td>recipeboxwithmetalheart</td>\n",
       "      <td>4.690265</td>\n",
       "    </tr>\n",
       "    <tr>\n",
       "      <th>1</th>\n",
       "      <td>536562</td>\n",
       "      <td>recipeboxwithmetalheart</td>\n",
       "      <td>4.690265</td>\n",
       "    </tr>\n",
       "    <tr>\n",
       "      <th>2</th>\n",
       "      <td>536588</td>\n",
       "      <td>recipeboxwithmetalheart</td>\n",
       "      <td>4.690265</td>\n",
       "    </tr>\n",
       "    <tr>\n",
       "      <th>3</th>\n",
       "      <td>536592</td>\n",
       "      <td>recipeboxwithmetalheart</td>\n",
       "      <td>4.690265</td>\n",
       "    </tr>\n",
       "    <tr>\n",
       "      <th>4</th>\n",
       "      <td>537237</td>\n",
       "      <td>recipeboxwithmetalheart</td>\n",
       "      <td>4.690265</td>\n",
       "    </tr>\n",
       "    <tr>\n",
       "      <th>5</th>\n",
       "      <td>537240</td>\n",
       "      <td>recipeboxwithmetalheart</td>\n",
       "      <td>4.690265</td>\n",
       "    </tr>\n",
       "    <tr>\n",
       "      <th>6</th>\n",
       "      <td>536381</td>\n",
       "      <td>girlypinktoolset</td>\n",
       "      <td>2.920354</td>\n",
       "    </tr>\n",
       "    <tr>\n",
       "      <th>7</th>\n",
       "      <td>536401</td>\n",
       "      <td>silverlookingmirror</td>\n",
       "      <td>2.920354</td>\n",
       "    </tr>\n",
       "    <tr>\n",
       "      <th>8</th>\n",
       "      <td>545337</td>\n",
       "      <td>silverlookingmirror</td>\n",
       "      <td>2.920354</td>\n",
       "    </tr>\n",
       "    <tr>\n",
       "      <th>9</th>\n",
       "      <td>536401</td>\n",
       "      <td>pinkovaljewelledmirror</td>\n",
       "      <td>3.510324</td>\n",
       "    </tr>\n",
       "  </tbody>\n",
       "</table>\n",
       "</div>"
      ],
      "text/plain": [
       "   InvoiceNo              Description   ratings\n",
       "0     536367  recipeboxwithmetalheart  4.690265\n",
       "1     536562  recipeboxwithmetalheart  4.690265\n",
       "2     536588  recipeboxwithmetalheart  4.690265\n",
       "3     536592  recipeboxwithmetalheart  4.690265\n",
       "4     537237  recipeboxwithmetalheart  4.690265\n",
       "5     537240  recipeboxwithmetalheart  4.690265\n",
       "6     536381         girlypinktoolset  2.920354\n",
       "7     536401      silverlookingmirror  2.920354\n",
       "8     545337      silverlookingmirror  2.920354\n",
       "9     536401   pinkovaljewelledmirror  3.510324"
      ]
     },
     "execution_count": 39,
     "metadata": {},
     "output_type": "execute_result"
    }
   ],
   "source": [
    "short_data.reset_index(drop = True, inplace = True)\n",
    "short_data.shape\n",
    "short_data.head(10)"
   ]
  },
  {
   "cell_type": "code",
   "execution_count": 40,
   "metadata": {},
   "outputs": [],
   "source": [
    "#short_data['code'] = short_data['Description'].to_dict()"
   ]
  },
  {
   "cell_type": "code",
   "execution_count": 41,
   "metadata": {},
   "outputs": [
    {
     "data": {
      "text/html": [
       "<div>\n",
       "<style scoped>\n",
       "    .dataframe tbody tr th:only-of-type {\n",
       "        vertical-align: middle;\n",
       "    }\n",
       "\n",
       "    .dataframe tbody tr th {\n",
       "        vertical-align: top;\n",
       "    }\n",
       "\n",
       "    .dataframe thead th {\n",
       "        text-align: right;\n",
       "    }\n",
       "</style>\n",
       "<table border=\"1\" class=\"dataframe\">\n",
       "  <thead>\n",
       "    <tr style=\"text-align: right;\">\n",
       "      <th></th>\n",
       "      <th>InvoiceNo</th>\n",
       "      <th>Description</th>\n",
       "      <th>ratings</th>\n",
       "    </tr>\n",
       "  </thead>\n",
       "  <tbody>\n",
       "    <tr>\n",
       "      <th>0</th>\n",
       "      <td>536367</td>\n",
       "      <td>recipeboxwithmetalheart</td>\n",
       "      <td>4.690265</td>\n",
       "    </tr>\n",
       "    <tr>\n",
       "      <th>1</th>\n",
       "      <td>536562</td>\n",
       "      <td>recipeboxwithmetalheart</td>\n",
       "      <td>4.690265</td>\n",
       "    </tr>\n",
       "    <tr>\n",
       "      <th>2</th>\n",
       "      <td>536588</td>\n",
       "      <td>recipeboxwithmetalheart</td>\n",
       "      <td>4.690265</td>\n",
       "    </tr>\n",
       "    <tr>\n",
       "      <th>3</th>\n",
       "      <td>536592</td>\n",
       "      <td>recipeboxwithmetalheart</td>\n",
       "      <td>4.690265</td>\n",
       "    </tr>\n",
       "    <tr>\n",
       "      <th>4</th>\n",
       "      <td>537237</td>\n",
       "      <td>recipeboxwithmetalheart</td>\n",
       "      <td>4.690265</td>\n",
       "    </tr>\n",
       "  </tbody>\n",
       "</table>\n",
       "</div>"
      ],
      "text/plain": [
       "   InvoiceNo              Description   ratings\n",
       "0     536367  recipeboxwithmetalheart  4.690265\n",
       "1     536562  recipeboxwithmetalheart  4.690265\n",
       "2     536588  recipeboxwithmetalheart  4.690265\n",
       "3     536592  recipeboxwithmetalheart  4.690265\n",
       "4     537237  recipeboxwithmetalheart  4.690265"
      ]
     },
     "execution_count": 41,
     "metadata": {},
     "output_type": "execute_result"
    }
   ],
   "source": [
    "short_data.head()"
   ]
  },
  {
   "cell_type": "code",
   "execution_count": 43,
   "metadata": {},
   "outputs": [],
   "source": [
    "short_data.to_csv('short_data.csv',index=False)"
   ]
  },
  {
   "cell_type": "code",
   "execution_count": 405,
   "metadata": {},
   "outputs": [
    {
     "data": {
      "text/plain": [
       "count    3128.000000\n",
       "mean        0.258632\n",
       "std         0.437953\n",
       "min         0.000000\n",
       "25%         0.000000\n",
       "50%         0.000000\n",
       "75%         1.000000\n",
       "max         1.000000\n",
       "Name: ratings, dtype: float64"
      ]
     },
     "execution_count": 405,
     "metadata": {},
     "output_type": "execute_result"
    }
   ],
   "source": [
    "short_data['ratings'].describe()"
   ]
  },
  {
   "cell_type": "code",
   "execution_count": 400,
   "metadata": {},
   "outputs": [],
   "source": [
    "#shorter_data=short_data.iloc[:,[0,2]]"
   ]
  },
  {
   "cell_type": "code",
   "execution_count": 422,
   "metadata": {},
   "outputs": [
    {
     "data": {
      "text/html": [
       "<div>\n",
       "<style scoped>\n",
       "    .dataframe tbody tr th:only-of-type {\n",
       "        vertical-align: middle;\n",
       "    }\n",
       "\n",
       "    .dataframe tbody tr th {\n",
       "        vertical-align: top;\n",
       "    }\n",
       "\n",
       "    .dataframe thead th {\n",
       "        text-align: right;\n",
       "    }\n",
       "</style>\n",
       "<table border=\"1\" class=\"dataframe\">\n",
       "  <thead>\n",
       "    <tr style=\"text-align: right;\">\n",
       "      <th></th>\n",
       "      <th>InvoiceNo</th>\n",
       "      <th>Description</th>\n",
       "      <th>ratings</th>\n",
       "    </tr>\n",
       "  </thead>\n",
       "  <tbody>\n",
       "    <tr>\n",
       "      <th>3123</th>\n",
       "      <td>581404</td>\n",
       "      <td>creamhangingheartt-lightholder</td>\n",
       "      <td>0</td>\n",
       "    </tr>\n",
       "    <tr>\n",
       "      <th>3124</th>\n",
       "      <td>581412</td>\n",
       "      <td>creamhangingheartt-lightholder</td>\n",
       "      <td>0</td>\n",
       "    </tr>\n",
       "    <tr>\n",
       "      <th>3125</th>\n",
       "      <td>581538</td>\n",
       "      <td>creamhangingheartt-lightholder</td>\n",
       "      <td>0</td>\n",
       "    </tr>\n",
       "    <tr>\n",
       "      <th>3126</th>\n",
       "      <td>581483</td>\n",
       "      <td>papercraft,littlebirdie</td>\n",
       "      <td>0</td>\n",
       "    </tr>\n",
       "    <tr>\n",
       "      <th>3127</th>\n",
       "      <td>581492</td>\n",
       "      <td>ivorypendanttripleshellnecklace</td>\n",
       "      <td>1</td>\n",
       "    </tr>\n",
       "  </tbody>\n",
       "</table>\n",
       "</div>"
      ],
      "text/plain": [
       "      InvoiceNo                      Description  ratings\n",
       "3123     581404   creamhangingheartt-lightholder        0\n",
       "3124     581412   creamhangingheartt-lightholder        0\n",
       "3125     581538   creamhangingheartt-lightholder        0\n",
       "3126     581483          papercraft,littlebirdie        0\n",
       "3127     581492  ivorypendanttripleshellnecklace        1"
      ]
     },
     "execution_count": 422,
     "metadata": {},
     "output_type": "execute_result"
    }
   ],
   "source": [
    "short_data.tail()"
   ]
  },
  {
   "cell_type": "code",
   "execution_count": 1,
   "metadata": {},
   "outputs": [
    {
     "data": {
      "text/plain": [
       "\"def iterator(df):\\n    for i in df['Description']:\\n        val=df.get_value(i,'ratings')\\n        return val\\n\""
      ]
     },
     "execution_count": 1,
     "metadata": {},
     "output_type": "execute_result"
    }
   ],
   "source": [
    "'''def iterator(df):\n",
    "    for i in df['Description']:\n",
    "        val=df.get_value(i,'ratings')\n",
    "        return val\n",
    "'''        "
   ]
  },
  {
   "cell_type": "code",
   "execution_count": 3,
   "metadata": {},
   "outputs": [
    {
     "data": {
      "text/plain": [
       "\"Invoice_vs_Description_matrix=(short_data.groupby(['InvoiceNo'])\\n                                        .apply(rate=iterator(short_data))\\n                                        .apply(pd.Series)\\n                                        .fillna(0)\\n                                        .reset_index())\\n\""
      ]
     },
     "execution_count": 3,
     "metadata": {},
     "output_type": "execute_result"
    }
   ],
   "source": [
    "'''Invoice_vs_Description_matrix=(short_data.groupby(['InvoiceNo'])\n",
    "                                        .apply(rate=iterator(short_data))\n",
    "                                        .apply(pd.Series)\n",
    "                                        .fillna(0)\n",
    "                                        .reset_index())\n",
    "'''                                        "
   ]
  },
  {
   "cell_type": "code",
   "execution_count": 395,
   "metadata": {},
   "outputs": [],
   "source": [
    "#Invoice_vs_Description_matrix=Invoice_vs_Description_matrix.set_index('Description')"
   ]
  },
  {
   "cell_type": "code",
   "execution_count": 4,
   "metadata": {},
   "outputs": [],
   "source": [
    "#Invoice_vs_Description_matrix.head(20)"
   ]
  },
  {
   "cell_type": "code",
   "execution_count": 371,
   "metadata": {},
   "outputs": [],
   "source": [
    "from sklearn.metrics.pairwise import pairwise_distances"
   ]
  },
  {
   "cell_type": "code",
   "execution_count": 372,
   "metadata": {},
   "outputs": [
    {
     "name": "stderr",
     "output_type": "stream",
     "text": [
      "C:\\ProgramData\\Anaconda3\\lib\\site-packages\\sklearn\\utils\\validation.py:475: DataConversionWarning: Data with input dtype float64 was converted to bool by check_pairwise_arrays.\n",
      "  warnings.warn(msg, DataConversionWarning)\n"
     ]
    },
    {
     "data": {
      "text/html": [
       "<div>\n",
       "<style scoped>\n",
       "    .dataframe tbody tr th:only-of-type {\n",
       "        vertical-align: middle;\n",
       "    }\n",
       "\n",
       "    .dataframe tbody tr th {\n",
       "        vertical-align: top;\n",
       "    }\n",
       "\n",
       "    .dataframe thead th {\n",
       "        text-align: right;\n",
       "    }\n",
       "</style>\n",
       "<table border=\"1\" class=\"dataframe\">\n",
       "  <thead>\n",
       "    <tr style=\"text-align: right;\">\n",
       "      <th></th>\n",
       "      <th>536367</th>\n",
       "      <th>536381</th>\n",
       "      <th>536401</th>\n",
       "      <th>536409</th>\n",
       "      <th>536415</th>\n",
       "      <th>536446</th>\n",
       "      <th>536464</th>\n",
       "      <th>536488</th>\n",
       "      <th>536522</th>\n",
       "      <th>536525</th>\n",
       "      <th>...</th>\n",
       "      <th>581395</th>\n",
       "      <th>581402</th>\n",
       "      <th>581404</th>\n",
       "      <th>581405</th>\n",
       "      <th>581412</th>\n",
       "      <th>581439</th>\n",
       "      <th>581480</th>\n",
       "      <th>581483</th>\n",
       "      <th>581492</th>\n",
       "      <th>581538</th>\n",
       "    </tr>\n",
       "  </thead>\n",
       "  <tbody>\n",
       "    <tr>\n",
       "      <th>536367</th>\n",
       "      <td>1.0</td>\n",
       "      <td>1.0</td>\n",
       "      <td>1.0</td>\n",
       "      <td>1.0</td>\n",
       "      <td>1.0</td>\n",
       "      <td>1.0</td>\n",
       "      <td>1.0</td>\n",
       "      <td>1.0</td>\n",
       "      <td>1.0</td>\n",
       "      <td>1.0</td>\n",
       "      <td>...</td>\n",
       "      <td>1.0</td>\n",
       "      <td>1.0</td>\n",
       "      <td>1.0</td>\n",
       "      <td>1.0</td>\n",
       "      <td>1.0</td>\n",
       "      <td>1.0</td>\n",
       "      <td>1.0</td>\n",
       "      <td>1.0</td>\n",
       "      <td>1.0</td>\n",
       "      <td>1.0</td>\n",
       "    </tr>\n",
       "    <tr>\n",
       "      <th>536381</th>\n",
       "      <td>1.0</td>\n",
       "      <td>1.0</td>\n",
       "      <td>1.0</td>\n",
       "      <td>1.0</td>\n",
       "      <td>1.0</td>\n",
       "      <td>1.0</td>\n",
       "      <td>1.0</td>\n",
       "      <td>1.0</td>\n",
       "      <td>1.0</td>\n",
       "      <td>1.0</td>\n",
       "      <td>...</td>\n",
       "      <td>1.0</td>\n",
       "      <td>1.0</td>\n",
       "      <td>1.0</td>\n",
       "      <td>1.0</td>\n",
       "      <td>1.0</td>\n",
       "      <td>1.0</td>\n",
       "      <td>1.0</td>\n",
       "      <td>1.0</td>\n",
       "      <td>1.0</td>\n",
       "      <td>1.0</td>\n",
       "    </tr>\n",
       "    <tr>\n",
       "      <th>536401</th>\n",
       "      <td>1.0</td>\n",
       "      <td>1.0</td>\n",
       "      <td>1.0</td>\n",
       "      <td>1.0</td>\n",
       "      <td>1.0</td>\n",
       "      <td>1.0</td>\n",
       "      <td>1.0</td>\n",
       "      <td>1.0</td>\n",
       "      <td>1.0</td>\n",
       "      <td>1.0</td>\n",
       "      <td>...</td>\n",
       "      <td>1.0</td>\n",
       "      <td>1.0</td>\n",
       "      <td>1.0</td>\n",
       "      <td>1.0</td>\n",
       "      <td>1.0</td>\n",
       "      <td>1.0</td>\n",
       "      <td>1.0</td>\n",
       "      <td>1.0</td>\n",
       "      <td>1.0</td>\n",
       "      <td>1.0</td>\n",
       "    </tr>\n",
       "    <tr>\n",
       "      <th>536409</th>\n",
       "      <td>1.0</td>\n",
       "      <td>1.0</td>\n",
       "      <td>1.0</td>\n",
       "      <td>1.0</td>\n",
       "      <td>1.0</td>\n",
       "      <td>1.0</td>\n",
       "      <td>1.0</td>\n",
       "      <td>1.0</td>\n",
       "      <td>1.0</td>\n",
       "      <td>1.0</td>\n",
       "      <td>...</td>\n",
       "      <td>1.0</td>\n",
       "      <td>1.0</td>\n",
       "      <td>1.0</td>\n",
       "      <td>1.0</td>\n",
       "      <td>1.0</td>\n",
       "      <td>1.0</td>\n",
       "      <td>1.0</td>\n",
       "      <td>1.0</td>\n",
       "      <td>1.0</td>\n",
       "      <td>1.0</td>\n",
       "    </tr>\n",
       "    <tr>\n",
       "      <th>536415</th>\n",
       "      <td>1.0</td>\n",
       "      <td>1.0</td>\n",
       "      <td>1.0</td>\n",
       "      <td>1.0</td>\n",
       "      <td>1.0</td>\n",
       "      <td>1.0</td>\n",
       "      <td>1.0</td>\n",
       "      <td>1.0</td>\n",
       "      <td>1.0</td>\n",
       "      <td>1.0</td>\n",
       "      <td>...</td>\n",
       "      <td>1.0</td>\n",
       "      <td>1.0</td>\n",
       "      <td>1.0</td>\n",
       "      <td>1.0</td>\n",
       "      <td>1.0</td>\n",
       "      <td>1.0</td>\n",
       "      <td>1.0</td>\n",
       "      <td>1.0</td>\n",
       "      <td>1.0</td>\n",
       "      <td>1.0</td>\n",
       "    </tr>\n",
       "  </tbody>\n",
       "</table>\n",
       "<p>5 rows × 1787 columns</p>\n",
       "</div>"
      ],
      "text/plain": [
       "        536367  536381  536401  536409  536415  536446  536464  536488  \\\n",
       "536367     1.0     1.0     1.0     1.0     1.0     1.0     1.0     1.0   \n",
       "536381     1.0     1.0     1.0     1.0     1.0     1.0     1.0     1.0   \n",
       "536401     1.0     1.0     1.0     1.0     1.0     1.0     1.0     1.0   \n",
       "536409     1.0     1.0     1.0     1.0     1.0     1.0     1.0     1.0   \n",
       "536415     1.0     1.0     1.0     1.0     1.0     1.0     1.0     1.0   \n",
       "\n",
       "        536522  536525   ...    581395  581402  581404  581405  581412  \\\n",
       "536367     1.0     1.0   ...       1.0     1.0     1.0     1.0     1.0   \n",
       "536381     1.0     1.0   ...       1.0     1.0     1.0     1.0     1.0   \n",
       "536401     1.0     1.0   ...       1.0     1.0     1.0     1.0     1.0   \n",
       "536409     1.0     1.0   ...       1.0     1.0     1.0     1.0     1.0   \n",
       "536415     1.0     1.0   ...       1.0     1.0     1.0     1.0     1.0   \n",
       "\n",
       "        581439  581480  581483  581492  581538  \n",
       "536367     1.0     1.0     1.0     1.0     1.0  \n",
       "536381     1.0     1.0     1.0     1.0     1.0  \n",
       "536401     1.0     1.0     1.0     1.0     1.0  \n",
       "536409     1.0     1.0     1.0     1.0     1.0  \n",
       "536415     1.0     1.0     1.0     1.0     1.0  \n",
       "\n",
       "[5 rows x 1787 columns]"
      ]
     },
     "execution_count": 372,
     "metadata": {},
     "output_type": "execute_result"
    }
   ],
   "source": [
    "jac_sim2 = 1 - pairwise_distances(Invoice_vs_Description_matrix.T, metric = 'jaccard')\n",
    "jac_sim2 = pd.DataFrame(jac_sim2, index=Invoice_vs_Description_matrix.columns, columns=Invoice_vs_Description_matrix.columns)\n",
    "jac_sim2.head()"
   ]
  },
  {
   "cell_type": "code",
   "execution_count": 379,
   "metadata": {},
   "outputs": [
    {
     "data": {
      "text/html": [
       "<div>\n",
       "<style scoped>\n",
       "    .dataframe tbody tr th:only-of-type {\n",
       "        vertical-align: middle;\n",
       "    }\n",
       "\n",
       "    .dataframe tbody tr th {\n",
       "        vertical-align: top;\n",
       "    }\n",
       "\n",
       "    .dataframe thead th {\n",
       "        text-align: right;\n",
       "    }\n",
       "</style>\n",
       "<table border=\"1\" class=\"dataframe\">\n",
       "  <thead>\n",
       "    <tr style=\"text-align: right;\">\n",
       "      <th></th>\n",
       "      <th>536367</th>\n",
       "      <th>562789</th>\n",
       "      <th>562775</th>\n",
       "      <th>562770</th>\n",
       "      <th>562710</th>\n",
       "      <th>562595</th>\n",
       "      <th>562583</th>\n",
       "      <th>562576</th>\n",
       "      <th>562553</th>\n",
       "      <th>562551</th>\n",
       "    </tr>\n",
       "  </thead>\n",
       "  <tbody>\n",
       "    <tr>\n",
       "      <th>536367</th>\n",
       "      <td>1.0</td>\n",
       "      <td>1.0</td>\n",
       "      <td>1.0</td>\n",
       "      <td>1.0</td>\n",
       "      <td>1.0</td>\n",
       "      <td>1.0</td>\n",
       "      <td>1.0</td>\n",
       "      <td>1.0</td>\n",
       "      <td>1.0</td>\n",
       "      <td>1.0</td>\n",
       "    </tr>\n",
       "  </tbody>\n",
       "</table>\n",
       "</div>"
      ],
      "text/plain": [
       "        536367  562789  562775  562770  562710  562595  562583  562576  \\\n",
       "536367     1.0     1.0     1.0     1.0     1.0     1.0     1.0     1.0   \n",
       "\n",
       "        562553  562551  \n",
       "536367     1.0     1.0  "
      ]
     },
     "execution_count": 379,
     "metadata": {},
     "output_type": "execute_result"
    }
   ],
   "source": [
    "check0=jac_sim2.iloc[0:1]\n",
    "pd.DataFrame(check0)\n",
    "check0=check0.sort_values(by=536367, ascending=True, axis=1)\n",
    "check0.iloc[:,0:10]"
   ]
  },
  {
   "cell_type": "code",
   "execution_count": 373,
   "metadata": {},
   "outputs": [
    {
     "data": {
      "text/plain": [
       "\"def fast_similarity(ratings, kind='user', epsilon=1e-9):\\n    # epsilon -> small number for handling dived-by-zero errors\\n    if kind == 'user':\\n        sim = ratings.dot(ratings.T) + epsilon\\n    elif kind == 'item':\\n        sim = ratings.T.dot(ratings) + epsilon\\n    norms = np.array([np.sqrt(np.diagonal(sim))])\\n    return (sim / norms / norms.T)\\n    \""
      ]
     },
     "execution_count": 373,
     "metadata": {},
     "output_type": "execute_result"
    }
   ],
   "source": [
    "'''def fast_similarity(ratings, kind='user', epsilon=1e-9):\n",
    "    # epsilon -> small number for handling dived-by-zero errors\n",
    "    if kind == 'user':\n",
    "        sim = ratings.dot(ratings.T) + epsilon\n",
    "    elif kind == 'item':\n",
    "        sim = ratings.T.dot(ratings) + epsilon\n",
    "    norms = np.array([np.sqrt(np.diagonal(sim))])\n",
    "    return (sim / norms / norms.T)\n",
    "    '''"
   ]
  },
  {
   "cell_type": "code",
   "execution_count": 374,
   "metadata": {},
   "outputs": [],
   "source": [
    "#user_similarity = fast_similarity(jac_sim2, kind='user')\n"
   ]
  },
  {
   "cell_type": "code",
   "execution_count": null,
   "metadata": {},
   "outputs": [],
   "source": []
  },
  {
   "cell_type": "code",
   "execution_count": 155,
   "metadata": {},
   "outputs": [],
   "source": [
    "#filter=lambda x: {y:1 for y in x[short_data.Description]}"
   ]
  },
  {
   "cell_type": "code",
   "execution_count": 156,
   "metadata": {},
   "outputs": [
    {
     "data": {
      "text/plain": [
       "\"short_data.pivot_table(\\n    values='ratings', index='InvoiceNo', columns='Description',\\n    fill_value=0,aggfunc=filter)\\n\""
      ]
     },
     "execution_count": 156,
     "metadata": {},
     "output_type": "execute_result"
    }
   ],
   "source": [
    "'''short_data.pivot_table(\n",
    "    values='ratings', index='InvoiceNo', columns='Description',\n",
    "    fill_value=0,aggfunc=filter)\n",
    "'''"
   ]
  },
  {
   "cell_type": "code",
   "execution_count": 157,
   "metadata": {},
   "outputs": [
    {
     "data": {
      "text/plain": [
       "\"Invoice_vs_Description_ratings_matrix=(short_data.groupby(['InvoiceNo'])\\n                                .apply(lambda x: {y:short_data.loc[short_data.Description==short_data['Description'],[short_data.ratings]] for y in x['Description']})\\n                                .apply(pd.Series)\\n                                .fillna(0)\\n                                .reset_index()     )    \""
      ]
     },
     "execution_count": 157,
     "metadata": {},
     "output_type": "execute_result"
    }
   ],
   "source": [
    "'''Invoice_vs_Description_ratings_matrix=(short_data.groupby(['InvoiceNo'])\n",
    "                                .apply(lambda x: {y:short_data.loc[short_data.Description==short_data['Description'],[short_data.ratings]] for y in x['Description']})\n",
    "                                .apply(pd.Series)\n",
    "                                .fillna(0)\n",
    "                                .reset_index()     )    '''                      "
   ]
  },
  {
   "cell_type": "code",
   "execution_count": null,
   "metadata": {},
   "outputs": [],
   "source": []
  },
  {
   "cell_type": "code",
   "execution_count": null,
   "metadata": {},
   "outputs": [],
   "source": []
  },
  {
   "cell_type": "code",
   "execution_count": 19,
   "metadata": {},
   "outputs": [
    {
     "data": {
      "text/plain": [
       "<matplotlib.axes._subplots.AxesSubplot at 0x247976895c0>"
      ]
     },
     "execution_count": 19,
     "metadata": {},
     "output_type": "execute_result"
    },
    {
     "data": {
      "image/png": "[encoded data removed]",
      "text/plain": [
       "<Figure size 432x288 with 1 Axes>"
      ]
     },
     "metadata": {},
     "output_type": "display_data"
    }
   ],
   "source": [
    "retail_new_clean_upfilter['UnitPrice'].plot(kind='kde')"
   ]
  },
  {
   "cell_type": "code",
   "execution_count": null,
   "metadata": {},
   "outputs": [],
   "source": []
  }
 ],
 "metadata": {
  "kernelspec": {
   "display_name": "Python 3",
   "language": "python",
   "name": "python3"
  },
  "language_info": {
   "codemirror_mode": {
    "name": "ipython",
    "version": 3
   },
   "file_extension": ".py",
   "mimetype": "text/x-python",
   "name": "python",
   "nbconvert_exporter": "python",
   "pygments_lexer": "ipython3",
   "version": "3.6.5"
  }
 },
 "nbformat": 4,
 "nbformat_minor": 2
}
