{
 "cells": [
  {
   "cell_type": "markdown",
   "metadata": {},
   "source": [
    "importing packages"
   ]
  },
  {
   "cell_type": "code",
   "execution_count": 455,
   "metadata": {},
   "outputs": [],
   "source": [
    "import pandas as pd\n",
    "import os\n",
    "import numpy as np\n",
    "import matplotlib.pyplot as plt\n",
    "from copy import deepcopy"
   ]
  },
  {
   "cell_type": "markdown",
   "metadata": {},
   "source": [
    "path set"
   ]
  },
  {
   "cell_type": "code",
   "execution_count": 456,
   "metadata": {},
   "outputs": [
    {
     "data": {
      "text/plain": [
       "'C:\\\\Users\\\\cgupta\\\\Desktop\\\\work'"
      ]
     },
     "execution_count": 456,
     "metadata": {},
     "output_type": "execute_result"
    }
   ],
   "source": [
    "os.chdir(r'C:/Users/cgupta/Desktop/work')\n",
    "os.getcwd()"
   ]
  },
  {
   "cell_type": "markdown",
   "metadata": {},
   "source": [
    "fetch the excel"
   ]
  },
  {
   "cell_type": "code",
   "execution_count": 457,
   "metadata": {},
   "outputs": [
    {
     "name": "stdout",
     "output_type": "stream",
     "text": [
      "<class 'pandas.core.frame.DataFrame'>\n",
      "RangeIndex: 541909 entries, 0 to 541908\n",
      "Data columns (total 8 columns):\n",
      "InvoiceNo      541909 non-null object\n",
      "StockCode      541909 non-null object\n",
      "Description    540455 non-null object\n",
      "Quantity       541909 non-null int64\n",
      "InvoiceDate    541909 non-null datetime64[ns]\n",
      "UnitPrice      541909 non-null float64\n",
      "CustomerID     406829 non-null float64\n",
      "Country        541909 non-null object\n",
      "dtypes: datetime64[ns](1), float64(2), int64(1), object(4)\n",
      "memory usage: 33.1+ MB\n"
     ]
    }
   ],
   "source": [
    "retail=pd.read_excel('Online Retail.xlsx','Online Retail',index_col=None, na_values=['NA'])\n",
    "retail.info()"
   ]
  },
  {
   "cell_type": "markdown",
   "metadata": {},
   "source": [
    "Filtering out the negative data cuz that is dirty data, we dont wanna recommend the items which were returned or rejected "
   ]
  },
  {
   "cell_type": "code",
   "execution_count": 458,
   "metadata": {},
   "outputs": [
    {
     "name": "stdout",
     "output_type": "stream",
     "text": [
      "<class 'pandas.core.frame.DataFrame'>\n",
      "Int64Index: 530104 entries, 0 to 541908\n",
      "Data columns (total 8 columns):\n",
      "InvoiceNo      530104 non-null object\n",
      "StockCode      530104 non-null object\n",
      "Description    530104 non-null object\n",
      "Quantity       530104 non-null int64\n",
      "InvoiceDate    530104 non-null datetime64[ns]\n",
      "UnitPrice      530104 non-null float64\n",
      "CustomerID     397884 non-null float64\n",
      "Country        530104 non-null object\n",
      "dtypes: datetime64[ns](1), float64(2), int64(1), object(4)\n",
      "memory usage: 36.4+ MB\n"
     ]
    }
   ],
   "source": [
    "retail_noNegative=retail[retail['Quantity']>0]\n",
    "retail_noNegative=retail_noNegative[retail_noNegative['UnitPrice']>0]\n",
    "retail_noNegative.info()"
   ]
  },
  {
   "cell_type": "markdown",
   "metadata": {},
   "source": [
    "removing the null description feilds"
   ]
  },
  {
   "cell_type": "code",
   "execution_count": 459,
   "metadata": {},
   "outputs": [
    {
     "name": "stdout",
     "output_type": "stream",
     "text": [
      "<class 'pandas.core.frame.DataFrame'>\n",
      "Int64Index: 530104 entries, 0 to 541908\n",
      "Data columns (total 8 columns):\n",
      "InvoiceNo      530104 non-null object\n",
      "StockCode      530104 non-null object\n",
      "Description    530104 non-null object\n",
      "Quantity       530104 non-null int64\n",
      "InvoiceDate    530104 non-null datetime64[ns]\n",
      "UnitPrice      530104 non-null float64\n",
      "CustomerID     397884 non-null float64\n",
      "Country        530104 non-null object\n",
      "dtypes: datetime64[ns](1), float64(2), int64(1), object(4)\n",
      "memory usage: 36.4+ MB\n"
     ]
    }
   ],
   "source": [
    "retail_notnull=retail_noNegative[retail_noNegative['Description'].notnull()]\n",
    "retail_notnull.info()"
   ]
  },
  {
   "cell_type": "markdown",
   "metadata": {},
   "source": [
    "removing unneccesary columns"
   ]
  },
  {
   "cell_type": "code",
   "execution_count": 460,
   "metadata": {},
   "outputs": [
    {
     "name": "stdout",
     "output_type": "stream",
     "text": [
      "<class 'pandas.core.frame.DataFrame'>\n",
      "Int64Index: 530104 entries, 0 to 541908\n",
      "Data columns (total 5 columns):\n",
      "InvoiceNo      530104 non-null object\n",
      "StockCode      530104 non-null object\n",
      "Description    530104 non-null object\n",
      "Quantity       530104 non-null int64\n",
      "UnitPrice      530104 non-null float64\n",
      "dtypes: float64(1), int64(1), object(3)\n",
      "memory usage: 24.3+ MB\n"
     ]
    }
   ],
   "source": [
    "retail_notnull=retail_notnull.drop(['InvoiceDate', 'CustomerID','Country'],axis=1)\n",
    "retail_notnull.info()"
   ]
  },
  {
   "cell_type": "markdown",
   "metadata": {},
   "source": [
    "turning the Stock codes and description to lower case"
   ]
  },
  {
   "cell_type": "code",
   "execution_count": 461,
   "metadata": {},
   "outputs": [
    {
     "data": {
      "text/html": [
       "<div>\n",
       "<style scoped>\n",
       "    .dataframe tbody tr th:only-of-type {\n",
       "        vertical-align: middle;\n",
       "    }\n",
       "\n",
       "    .dataframe tbody tr th {\n",
       "        vertical-align: top;\n",
       "    }\n",
       "\n",
       "    .dataframe thead th {\n",
       "        text-align: right;\n",
       "    }\n",
       "</style>\n",
       "<table border=\"1\" class=\"dataframe\">\n",
       "  <thead>\n",
       "    <tr style=\"text-align: right;\">\n",
       "      <th></th>\n",
       "      <th>InvoiceNo</th>\n",
       "      <th>StockCode</th>\n",
       "      <th>Description</th>\n",
       "      <th>Quantity</th>\n",
       "      <th>UnitPrice</th>\n",
       "    </tr>\n",
       "  </thead>\n",
       "  <tbody>\n",
       "    <tr>\n",
       "      <th>0</th>\n",
       "      <td>536365</td>\n",
       "      <td>85123a</td>\n",
       "      <td>white hanging heart t-light holder</td>\n",
       "      <td>6</td>\n",
       "      <td>2.55</td>\n",
       "    </tr>\n",
       "    <tr>\n",
       "      <th>1</th>\n",
       "      <td>536365</td>\n",
       "      <td>71053</td>\n",
       "      <td>white metal lantern</td>\n",
       "      <td>6</td>\n",
       "      <td>3.39</td>\n",
       "    </tr>\n",
       "    <tr>\n",
       "      <th>2</th>\n",
       "      <td>536365</td>\n",
       "      <td>84406b</td>\n",
       "      <td>cream cupid hearts coat hanger</td>\n",
       "      <td>8</td>\n",
       "      <td>2.75</td>\n",
       "    </tr>\n",
       "    <tr>\n",
       "      <th>3</th>\n",
       "      <td>536365</td>\n",
       "      <td>84029g</td>\n",
       "      <td>knitted union flag hot water bottle</td>\n",
       "      <td>6</td>\n",
       "      <td>3.39</td>\n",
       "    </tr>\n",
       "    <tr>\n",
       "      <th>4</th>\n",
       "      <td>536365</td>\n",
       "      <td>84029e</td>\n",
       "      <td>red woolly hottie white heart.</td>\n",
       "      <td>6</td>\n",
       "      <td>3.39</td>\n",
       "    </tr>\n",
       "  </tbody>\n",
       "</table>\n",
       "</div>"
      ],
      "text/plain": [
       "  InvoiceNo StockCode                          Description  Quantity  \\\n",
       "0    536365    85123a   white hanging heart t-light holder         6   \n",
       "1    536365     71053                  white metal lantern         6   \n",
       "2    536365    84406b       cream cupid hearts coat hanger         8   \n",
       "3    536365    84029g  knitted union flag hot water bottle         6   \n",
       "4    536365    84029e       red woolly hottie white heart.         6   \n",
       "\n",
       "   UnitPrice  \n",
       "0       2.55  \n",
       "1       3.39  \n",
       "2       2.75  \n",
       "3       3.39  \n",
       "4       3.39  "
      ]
     },
     "execution_count": 461,
     "metadata": {},
     "output_type": "execute_result"
    }
   ],
   "source": [
    "retail_notnull['StockCode']=retail_notnull['StockCode'].apply(lambda x: str(x).lower())\n",
    "retail_notnull['Description']=retail_notnull['Description'].apply(lambda x: str(x).lower())\n",
    "retail_notnull.head()"
   ]
  },
  {
   "cell_type": "markdown",
   "metadata": {},
   "source": [
    "removing alpha numeric invoice no which is a bad data"
   ]
  },
  {
   "cell_type": "code",
   "execution_count": 462,
   "metadata": {},
   "outputs": [],
   "source": [
    "retail_notnull=retail_notnull[retail_notnull['InvoiceNo'].apply(lambda x: isinstance(x, (int, np.int64)))]"
   ]
  },
  {
   "cell_type": "markdown",
   "metadata": {},
   "source": [
    "type casting Invoice no Data type from object to Int64\n",
    "forming a new 'retail_clean' and dropping Quantity"
   ]
  },
  {
   "cell_type": "code",
   "execution_count": 463,
   "metadata": {},
   "outputs": [
    {
     "name": "stdout",
     "output_type": "stream",
     "text": [
      "<class 'pandas.core.frame.DataFrame'>\n",
      "Int64Index: 530103 entries, 0 to 541908\n",
      "Data columns (total 4 columns):\n",
      "InvoiceNo      530103 non-null int64\n",
      "StockCode      530103 non-null object\n",
      "Description    530103 non-null object\n",
      "UnitPrice      530103 non-null float64\n",
      "dtypes: float64(1), int64(1), object(2)\n",
      "memory usage: 20.2+ MB\n"
     ]
    }
   ],
   "source": [
    "retail_notnull['InvoiceNo']=retail_notnull['InvoiceNo'].astype('int64')\n",
    "retail_clean=retail_notnull\n",
    "retail_clean=retail_clean.drop('Quantity', axis=1)\n",
    "retail_clean.info()"
   ]
  },
  {
   "cell_type": "markdown",
   "metadata": {},
   "source": [
    "removing 'spaces' from Description to get rid of any duplicate description"
   ]
  },
  {
   "cell_type": "code",
   "execution_count": 464,
   "metadata": {},
   "outputs": [
    {
     "data": {
      "text/plain": [
       "4025"
      ]
     },
     "execution_count": 464,
     "metadata": {},
     "output_type": "execute_result"
    }
   ],
   "source": [
    "len(retail_clean['Description'].unique())"
   ]
  },
  {
   "cell_type": "code",
   "execution_count": 465,
   "metadata": {},
   "outputs": [],
   "source": [
    "retail_clean['Description']=retail_clean['Description'].str.replace(' ', '')"
   ]
  },
  {
   "cell_type": "code",
   "execution_count": 466,
   "metadata": {},
   "outputs": [
    {
     "name": "stdout",
     "output_type": "stream",
     "text": [
      "3997\n",
      "3811\n",
      "19959\n",
      "1290\n"
     ]
    }
   ],
   "source": [
    "print(len(retail_clean['Description'].unique()))\n",
    "print(len(retail_clean['StockCode'].unique()))\n",
    "print(len(retail_clean['InvoiceNo'].unique()))\n",
    "print(len(retail_clean['UnitPrice'].unique()))"
   ]
  },
  {
   "cell_type": "code",
   "execution_count": 467,
   "metadata": {},
   "outputs": [
    {
     "data": {
      "text/html": [
       "<div>\n",
       "<style scoped>\n",
       "    .dataframe tbody tr th:only-of-type {\n",
       "        vertical-align: middle;\n",
       "    }\n",
       "\n",
       "    .dataframe tbody tr th {\n",
       "        vertical-align: top;\n",
       "    }\n",
       "\n",
       "    .dataframe thead th {\n",
       "        text-align: right;\n",
       "    }\n",
       "</style>\n",
       "<table border=\"1\" class=\"dataframe\">\n",
       "  <thead>\n",
       "    <tr style=\"text-align: right;\">\n",
       "      <th></th>\n",
       "      <th>InvoiceNo</th>\n",
       "      <th>StockCode</th>\n",
       "      <th>Description</th>\n",
       "      <th>UnitPrice</th>\n",
       "    </tr>\n",
       "  </thead>\n",
       "  <tbody>\n",
       "    <tr>\n",
       "      <th>0</th>\n",
       "      <td>536365</td>\n",
       "      <td>85123a</td>\n",
       "      <td>whitehangingheartt-lightholder</td>\n",
       "      <td>2.55</td>\n",
       "    </tr>\n",
       "    <tr>\n",
       "      <th>1</th>\n",
       "      <td>536365</td>\n",
       "      <td>71053</td>\n",
       "      <td>whitemetallantern</td>\n",
       "      <td>3.39</td>\n",
       "    </tr>\n",
       "    <tr>\n",
       "      <th>2</th>\n",
       "      <td>536365</td>\n",
       "      <td>84406b</td>\n",
       "      <td>creamcupidheartscoathanger</td>\n",
       "      <td>2.75</td>\n",
       "    </tr>\n",
       "    <tr>\n",
       "      <th>3</th>\n",
       "      <td>536365</td>\n",
       "      <td>84029g</td>\n",
       "      <td>knittedunionflaghotwaterbottle</td>\n",
       "      <td>3.39</td>\n",
       "    </tr>\n",
       "    <tr>\n",
       "      <th>4</th>\n",
       "      <td>536365</td>\n",
       "      <td>84029e</td>\n",
       "      <td>redwoollyhottiewhiteheart.</td>\n",
       "      <td>3.39</td>\n",
       "    </tr>\n",
       "  </tbody>\n",
       "</table>\n",
       "</div>"
      ],
      "text/plain": [
       "   InvoiceNo StockCode                     Description  UnitPrice\n",
       "0     536365    85123a  whitehangingheartt-lightholder       2.55\n",
       "1     536365     71053               whitemetallantern       3.39\n",
       "2     536365    84406b      creamcupidheartscoathanger       2.75\n",
       "3     536365    84029g  knittedunionflaghotwaterbottle       3.39\n",
       "4     536365    84029e      redwoollyhottiewhiteheart.       3.39"
      ]
     },
     "execution_count": 467,
     "metadata": {},
     "output_type": "execute_result"
    }
   ],
   "source": [
    "retail_clean.head()"
   ]
  },
  {
   "cell_type": "code",
   "execution_count": 507,
   "metadata": {},
   "outputs": [
    {
     "data": {
      "text/html": [
       "<div>\n",
       "<style scoped>\n",
       "    .dataframe tbody tr th:only-of-type {\n",
       "        vertical-align: middle;\n",
       "    }\n",
       "\n",
       "    .dataframe tbody tr th {\n",
       "        vertical-align: top;\n",
       "    }\n",
       "\n",
       "    .dataframe thead th {\n",
       "        text-align: right;\n",
       "    }\n",
       "</style>\n",
       "<table border=\"1\" class=\"dataframe\">\n",
       "  <thead>\n",
       "    <tr style=\"text-align: right;\">\n",
       "      <th></th>\n",
       "      <th>Description</th>\n",
       "      <th>CountInvoices</th>\n",
       "    </tr>\n",
       "  </thead>\n",
       "  <tbody>\n",
       "    <tr>\n",
       "      <th>0</th>\n",
       "      <td>*boomboxipodclassic</td>\n",
       "      <td>1</td>\n",
       "    </tr>\n",
       "    <tr>\n",
       "      <th>1</th>\n",
       "      <td>*usbofficemirrorball</td>\n",
       "      <td>2</td>\n",
       "    </tr>\n",
       "    <tr>\n",
       "      <th>2</th>\n",
       "      <td>10colourspaceboypen</td>\n",
       "      <td>318</td>\n",
       "    </tr>\n",
       "    <tr>\n",
       "      <th>3</th>\n",
       "      <td>12colouredpartyballoons</td>\n",
       "      <td>163</td>\n",
       "    </tr>\n",
       "    <tr>\n",
       "      <th>4</th>\n",
       "      <td>12daisypegsinwoodbox</td>\n",
       "      <td>77</td>\n",
       "    </tr>\n",
       "  </tbody>\n",
       "</table>\n",
       "</div>"
      ],
      "text/plain": [
       "               Description  CountInvoices\n",
       "0      *boomboxipodclassic              1\n",
       "1     *usbofficemirrorball              2\n",
       "2      10colourspaceboypen            318\n",
       "3  12colouredpartyballoons            163\n",
       "4     12daisypegsinwoodbox             77"
      ]
     },
     "execution_count": 507,
     "metadata": {},
     "output_type": "execute_result"
    }
   ],
   "source": [
    "test_retail_clean=pd.read_csv('test_cleanest_edited.csv')\n",
    "#test_retail_clean=test_retail_clean[test_retail_clean['CountInvoices']>1]\n",
    "test_retail_clean.head()"
   ]
  },
  {
   "cell_type": "code",
   "execution_count": 508,
   "metadata": {},
   "outputs": [
    {
     "data": {
      "text/plain": [
       "Description\n",
       "*boomboxipodclassic                                     [16.98]\n",
       "*usbofficemirrorball                                     [8.47]\n",
       "10colourspaceboypen        [0.85, 1.66, 2.51, 1.63, 2.46, 0.72]\n",
       "12colouredpartyballoons                [0.65, 1.28, 1.25, 0.63]\n",
       "12daisypegsinwoodbox                         [1.65, 3.36, 3.29]\n",
       "Name: UnitPrice, dtype: object"
      ]
     },
     "execution_count": 508,
     "metadata": {},
     "output_type": "execute_result"
    }
   ],
   "source": [
    "retail_dropped=retail_clean.drop(['InvoiceNo','StockCode'],axis=1)\n",
    "retail_dropped.groupby('Description')['UnitPrice'].unique().head()\n"
   ]
  },
  {
   "cell_type": "code",
   "execution_count": 509,
   "metadata": {},
   "outputs": [
    {
     "data": {
      "text/plain": [
       "Description\n",
       "*boomboxipodclassic        16.98\n",
       "*usbofficemirrorball        8.47\n",
       "10colourspaceboypen         0.85\n",
       "12colouredpartyballoons     0.65\n",
       "12daisypegsinwoodbox        1.65\n",
       "Name: UnitPrice, dtype: float64"
      ]
     },
     "execution_count": 509,
     "metadata": {},
     "output_type": "execute_result"
    }
   ],
   "source": [
    "retail_dropped_median=retail_dropped.groupby('Description')['UnitPrice'].median()\n",
    "retail_dropped_median.head()\n",
    "\n"
   ]
  },
  {
   "cell_type": "code",
   "execution_count": 510,
   "metadata": {},
   "outputs": [],
   "source": [
    "retail_dropped_median.to_csv('retail_dropped_median.csv', index=True)"
   ]
  },
  {
   "cell_type": "code",
   "execution_count": 511,
   "metadata": {},
   "outputs": [
    {
     "data": {
      "text/html": [
       "<div>\n",
       "<style scoped>\n",
       "    .dataframe tbody tr th:only-of-type {\n",
       "        vertical-align: middle;\n",
       "    }\n",
       "\n",
       "    .dataframe tbody tr th {\n",
       "        vertical-align: top;\n",
       "    }\n",
       "\n",
       "    .dataframe thead th {\n",
       "        text-align: right;\n",
       "    }\n",
       "</style>\n",
       "<table border=\"1\" class=\"dataframe\">\n",
       "  <thead>\n",
       "    <tr style=\"text-align: right;\">\n",
       "      <th></th>\n",
       "      <th>Description</th>\n",
       "      <th>UnitPrice</th>\n",
       "    </tr>\n",
       "  </thead>\n",
       "  <tbody>\n",
       "    <tr>\n",
       "      <th>0</th>\n",
       "      <td>*boomboxipodclassic</td>\n",
       "      <td>16.98</td>\n",
       "    </tr>\n",
       "    <tr>\n",
       "      <th>1</th>\n",
       "      <td>*usbofficemirrorball</td>\n",
       "      <td>8.47</td>\n",
       "    </tr>\n",
       "    <tr>\n",
       "      <th>2</th>\n",
       "      <td>10colourspaceboypen</td>\n",
       "      <td>0.85</td>\n",
       "    </tr>\n",
       "    <tr>\n",
       "      <th>3</th>\n",
       "      <td>12colouredpartyballoons</td>\n",
       "      <td>0.65</td>\n",
       "    </tr>\n",
       "    <tr>\n",
       "      <th>4</th>\n",
       "      <td>12daisypegsinwoodbox</td>\n",
       "      <td>1.65</td>\n",
       "    </tr>\n",
       "  </tbody>\n",
       "</table>\n",
       "</div>"
      ],
      "text/plain": [
       "               Description  UnitPrice\n",
       "0      *boomboxipodclassic      16.98\n",
       "1     *usbofficemirrorball       8.47\n",
       "2      10colourspaceboypen       0.85\n",
       "3  12colouredpartyballoons       0.65\n",
       "4     12daisypegsinwoodbox       1.65"
      ]
     },
     "execution_count": 511,
     "metadata": {},
     "output_type": "execute_result"
    }
   ],
   "source": [
    "retail_dropped_median_edited=pd.read_csv('retail_dropped_median.csv',header=None)\n",
    "retail_dropped_median_edited.columns = ['Description','UnitPrice']\n",
    "#retail_dropped_median_edited=retail_dropped_median_edited[retail_dropped_median_edited['UnitPrice']>0.42]\n",
    "retail_dropped_median_edited.head()"
   ]
  },
  {
   "cell_type": "code",
   "execution_count": 512,
   "metadata": {},
   "outputs": [],
   "source": [
    "demo=pd.merge(test_retail_clean,retail_dropped_median_edited,on='Description')"
   ]
  },
  {
   "cell_type": "code",
   "execution_count": null,
   "metadata": {},
   "outputs": [],
   "source": []
  },
  {
   "cell_type": "code",
   "execution_count": 513,
   "metadata": {},
   "outputs": [
    {
     "data": {
      "text/html": [
       "<div>\n",
       "<style scoped>\n",
       "    .dataframe tbody tr th:only-of-type {\n",
       "        vertical-align: middle;\n",
       "    }\n",
       "\n",
       "    .dataframe tbody tr th {\n",
       "        vertical-align: top;\n",
       "    }\n",
       "\n",
       "    .dataframe thead th {\n",
       "        text-align: right;\n",
       "    }\n",
       "</style>\n",
       "<table border=\"1\" class=\"dataframe\">\n",
       "  <thead>\n",
       "    <tr style=\"text-align: right;\">\n",
       "      <th></th>\n",
       "      <th>Description</th>\n",
       "      <th>CountInvoices</th>\n",
       "      <th>UnitPrice</th>\n",
       "      <th>logCountInvoices</th>\n",
       "      <th>logUnitPrice</th>\n",
       "    </tr>\n",
       "  </thead>\n",
       "  <tbody>\n",
       "    <tr>\n",
       "      <th>0</th>\n",
       "      <td>*boomboxipodclassic</td>\n",
       "      <td>1</td>\n",
       "      <td>16.98</td>\n",
       "      <td>0.000000</td>\n",
       "      <td>1.229938</td>\n",
       "    </tr>\n",
       "    <tr>\n",
       "      <th>1</th>\n",
       "      <td>*usbofficemirrorball</td>\n",
       "      <td>2</td>\n",
       "      <td>8.47</td>\n",
       "      <td>0.301030</td>\n",
       "      <td>0.927883</td>\n",
       "    </tr>\n",
       "    <tr>\n",
       "      <th>2</th>\n",
       "      <td>10colourspaceboypen</td>\n",
       "      <td>318</td>\n",
       "      <td>0.85</td>\n",
       "      <td>2.502427</td>\n",
       "      <td>-0.070581</td>\n",
       "    </tr>\n",
       "    <tr>\n",
       "      <th>3</th>\n",
       "      <td>12colouredpartyballoons</td>\n",
       "      <td>163</td>\n",
       "      <td>0.65</td>\n",
       "      <td>2.212188</td>\n",
       "      <td>-0.187087</td>\n",
       "    </tr>\n",
       "    <tr>\n",
       "      <th>4</th>\n",
       "      <td>12daisypegsinwoodbox</td>\n",
       "      <td>77</td>\n",
       "      <td>1.65</td>\n",
       "      <td>1.886491</td>\n",
       "      <td>0.217484</td>\n",
       "    </tr>\n",
       "  </tbody>\n",
       "</table>\n",
       "</div>"
      ],
      "text/plain": [
       "               Description  CountInvoices  UnitPrice  logCountInvoices  \\\n",
       "0      *boomboxipodclassic              1      16.98          0.000000   \n",
       "1     *usbofficemirrorball              2       8.47          0.301030   \n",
       "2      10colourspaceboypen            318       0.85          2.502427   \n",
       "3  12colouredpartyballoons            163       0.65          2.212188   \n",
       "4     12daisypegsinwoodbox             77       1.65          1.886491   \n",
       "\n",
       "   logUnitPrice  \n",
       "0      1.229938  \n",
       "1      0.927883  \n",
       "2     -0.070581  \n",
       "3     -0.187087  \n",
       "4      0.217484  "
      ]
     },
     "execution_count": 513,
     "metadata": {},
     "output_type": "execute_result"
    }
   ],
   "source": [
    "demo['logCountInvoices'] = np.log10(demo['CountInvoices'])\n",
    "demo['logUnitPrice'] = np.log10(demo['UnitPrice'])\n",
    "demo.head()"
   ]
  },
  {
   "cell_type": "code",
   "execution_count": 514,
   "metadata": {},
   "outputs": [
    {
     "data": {
      "text/plain": [
       "CountInvoices       63.000000\n",
       "UnitPrice            2.100000\n",
       "logCountInvoices     1.799341\n",
       "logUnitPrice         0.322219\n",
       "dtype: float64"
      ]
     },
     "execution_count": 514,
     "metadata": {},
     "output_type": "execute_result"
    }
   ],
   "source": [
    "demo.median()"
   ]
  },
  {
   "cell_type": "code",
   "execution_count": 515,
   "metadata": {},
   "outputs": [
    {
     "data": {
      "text/plain": [
       "<matplotlib.collections.PathCollection at 0x26004859d68>"
      ]
     },
     "execution_count": 515,
     "metadata": {},
     "output_type": "execute_result"
    },
    {
     "data": {
      "image/png": "[encoded data removed]",
      "text/plain": [
       "<Figure size 432x288 with 1 Axes>"
      ]
     },
     "metadata": {},
     "output_type": "display_data"
    }
   ],
   "source": [
    "#demo.plot('UnitPrice','CountInvoices',kind='scatter',logx=True,logy=True)\n",
    "f1 = demo['UnitPrice'].values\n",
    "f2 = demo['CountInvoices'].values\n",
    "X1 = np.array(list(zip(f1, f2)))\n",
    "plt.scatter(f1, f2, c='black', s=7)\n",
    "\n"
   ]
  },
  {
   "cell_type": "code",
   "execution_count": 516,
   "metadata": {},
   "outputs": [],
   "source": [
    "#demo['UnitPrice'].quantile(q=.1)"
   ]
  },
  {
   "cell_type": "code",
   "execution_count": 517,
   "metadata": {},
   "outputs": [],
   "source": [
    "#demo['CountInvoices'].quantile(q=.1)"
   ]
  },
  {
   "cell_type": "code",
   "execution_count": 518,
   "metadata": {},
   "outputs": [
    {
     "name": "stdout",
     "output_type": "stream",
     "text": [
      "[[ 1.22993769  0.        ]\n",
      " [ 0.92788341  0.30103   ]\n",
      " [-0.07058107  2.50242712]\n",
      " ...\n",
      " [-0.07058107  2.42975228]\n",
      " [ 1.01703334  1.20411998]\n",
      " [ 0.57403127  1.36172784]]\n"
     ]
    },
    {
     "data": {
      "image/png": "[encoded data removed]",
      "text/plain": [
       "<Figure size 432x288 with 1 Axes>"
      ]
     },
     "metadata": {},
     "output_type": "display_data"
    }
   ],
   "source": [
    "#demo.plot('logUnitPrice','logCountInvoices',kind='scatter',logx=True,logy=True)\n",
    "f3 = demo['logUnitPrice'].values\n",
    "f4 = demo['logCountInvoices'].values\n",
    "X2 = np.array(list(zip(f3, f4)))\n",
    "plt.scatter(f3, f4, c='black', s=7)\n",
    "print(X2)"
   ]
  },
  {
   "cell_type": "markdown",
   "metadata": {},
   "source": [
    "for f1 and f2"
   ]
  },
  {
   "cell_type": "code",
   "execution_count": 480,
   "metadata": {},
   "outputs": [],
   "source": [
    "# Euclidean Distance Caculator\n",
    "#def dist(a, b, ax=1):\n",
    "#    return np.linalg.norm(a - b, axis=ax)"
   ]
  },
  {
   "cell_type": "code",
   "execution_count": 519,
   "metadata": {},
   "outputs": [
    {
     "data": {
      "text/plain": [
       "'# Number of clusters\\nk = 3\\n# X coordinates of random centroids\\nC_x = np.random.randint(0, np.max(X1)-2.08, size=k)\\n# Y coordinates of random centroids\\nC_y = np.random.randint(0, np.max(X1)-70, size=k)\\nC = np.array(list(zip(C_x, C_y)), dtype=np.float32)\\nprint(C)\\n'"
      ]
     },
     "execution_count": 519,
     "metadata": {},
     "output_type": "execute_result"
    }
   ],
   "source": [
    "'''# Number of clusters\n",
    "k = 3\n",
    "# X coordinates of random centroids\n",
    "C_x = np.random.randint(0, np.max(X1)-2.08, size=k)\n",
    "# Y coordinates of random centroids\n",
    "C_y = np.random.randint(0, np.max(X1)-70, size=k)\n",
    "C = np.array(list(zip(C_x, C_y)), dtype=np.float32)\n",
    "print(C)\n",
    "'''"
   ]
  },
  {
   "cell_type": "code",
   "execution_count": 520,
   "metadata": {},
   "outputs": [
    {
     "data": {
      "text/plain": [
       "\"# Plotting along with the Centroids\\nplt.scatter(f1, f2, c='#050505', s=7)\\nplt.scatter(C_x, C_y, marker='*', s=200, c='g')\\n\""
      ]
     },
     "execution_count": 520,
     "metadata": {},
     "output_type": "execute_result"
    }
   ],
   "source": [
    "'''# Plotting along with the Centroids\n",
    "plt.scatter(f1, f2, c='#050505', s=7)\n",
    "plt.scatter(C_x, C_y, marker='*', s=200, c='g')\n",
    "'''"
   ]
  },
  {
   "cell_type": "code",
   "execution_count": 521,
   "metadata": {},
   "outputs": [
    {
     "data": {
      "text/plain": [
       "\"# To store the value of centroids when it updates\\nC_old = np.zeros(C.shape)\\n# Cluster Lables(0, 1, 2)\\nclusters = np.zeros(len(X1))\\n# Error func. - Distance between new centroids and old centroids\\nerror = dist(C, C_old, None)\\n# Loop will run till the error becomes zero\\nwhile error != 0:\\n    # Assigning each value to its closest cluster\\n    for i in range(len(X1)):\\n        distances = dist(X1[i], C)\\n        cluster = np.argmin(distances)\\n        clusters[i] = cluster\\n    # Storing the old centroid values\\n    C_old = deepcopy(C)\\n    # Finding the new centroids by taking the average value\\n    for i in range(k):\\n        points = [X1[j] for j in range(len(X1)) if clusters[j] == i]\\n        C[i] = np.mean(points, axis=0)\\n    error = dist(C, C_old, None)\\ncolors = ['r', 'g', 'b', 'y', 'c', 'm']\\nfig, ax = plt.subplots()\\nfor i in range(k):\\n        points = np.array([X1[j] for j in range(len(X1)) if clusters[j] == i])\\n        ax.scatter(points[:, 0], points[:, 1], s=7, c=colors[i])\\nax.scatter(C[:, 0], C[:, 1], marker='*', s=200, c='#050505')\\n\""
      ]
     },
     "execution_count": 521,
     "metadata": {},
     "output_type": "execute_result"
    }
   ],
   "source": [
    "'''# To store the value of centroids when it updates\n",
    "C_old = np.zeros(C.shape)\n",
    "# Cluster Lables(0, 1, 2)\n",
    "clusters = np.zeros(len(X1))\n",
    "# Error func. - Distance between new centroids and old centroids\n",
    "error = dist(C, C_old, None)\n",
    "# Loop will run till the error becomes zero\n",
    "while error != 0:\n",
    "    # Assigning each value to its closest cluster\n",
    "    for i in range(len(X1)):\n",
    "        distances = dist(X1[i], C)\n",
    "        cluster = np.argmin(distances)\n",
    "        clusters[i] = cluster\n",
    "    # Storing the old centroid values\n",
    "    C_old = deepcopy(C)\n",
    "    # Finding the new centroids by taking the average value\n",
    "    for i in range(k):\n",
    "        points = [X1[j] for j in range(len(X1)) if clusters[j] == i]\n",
    "        C[i] = np.mean(points, axis=0)\n",
    "    error = dist(C, C_old, None)\n",
    "colors = ['r', 'g', 'b', 'y', 'c', 'm']\n",
    "fig, ax = plt.subplots()\n",
    "for i in range(k):\n",
    "        points = np.array([X1[j] for j in range(len(X1)) if clusters[j] == i])\n",
    "        ax.scatter(points[:, 0], points[:, 1], s=7, c=colors[i])\n",
    "ax.scatter(C[:, 0], C[:, 1], marker='*', s=200, c='#050505')\n",
    "'''"
   ]
  },
  {
   "cell_type": "code",
   "execution_count": 532,
   "metadata": {},
   "outputs": [],
   "source": [
    "from sklearn.cluster import KMeans\n",
    "\n",
    "# Number of clusters\n",
    "kmeans = KMeans(n_clusters=2)\n",
    "# Fitting the input data\n",
    "kmeans = kmeans.fit(X1)\n",
    "# Getting the cluster labels\n",
    "labels = kmeans.predict(X1)\n",
    "# Centroid values\n",
    "centroids = kmeans.cluster_centers_"
   ]
  },
  {
   "cell_type": "code",
   "execution_count": 533,
   "metadata": {},
   "outputs": [
    {
     "name": "stdout",
     "output_type": "stream",
     "text": [
      "[[  5.76614181  77.24936816]\n",
      " [  3.20816514 561.70642202]]\n"
     ]
    }
   ],
   "source": [
    "# Comparing with scikit-learn centroids\n",
    "#print(C) # From Scratch\n",
    "print(centroids) # From sci-kit learn"
   ]
  },
  {
   "cell_type": "code",
   "execution_count": 534,
   "metadata": {},
   "outputs": [
    {
     "data": {
      "image/png": "[encoded data removed]",
      "text/plain": [
       "<Figure size 432x288 with 1 Axes>"
      ]
     },
     "metadata": {},
     "output_type": "display_data"
    }
   ],
   "source": [
    "plt.scatter(X1[:, 0], X1[:, 1], c=labels, s=50, cmap='viridis')\n",
    "\n",
    "centers = kmeans.cluster_centers_\n",
    "plt.scatter(centroids[:, 0], centroids[:, 1], c='black', s=200, alpha=0.5);"
   ]
  },
  {
   "cell_type": "code",
   "execution_count": 535,
   "metadata": {},
   "outputs": [],
   "source": [
    "from sklearn.cluster import KMeans\n",
    "\n",
    "# Number of clusters\n",
    "kmeans = KMeans(n_clusters=3)\n",
    "# Fitting the input data\n",
    "kmeans = kmeans.fit(X2)\n",
    "# Getting the cluster labels\n",
    "labels = kmeans.predict(X2)\n",
    "# Centroid values\n",
    "centroids = kmeans.cluster_centers_"
   ]
  },
  {
   "cell_type": "code",
   "execution_count": 536,
   "metadata": {},
   "outputs": [
    {
     "name": "stdout",
     "output_type": "stream",
     "text": [
      "[[0.4118755  1.56186242]\n",
      " [0.17603143 2.31276735]\n",
      " [0.41901218 0.54731695]]\n"
     ]
    }
   ],
   "source": [
    "# Comparing with scikit-learn centroids\n",
    "#print(C) # From Scratch\n",
    "print(centroids) # From sci-kit learn"
   ]
  },
  {
   "cell_type": "code",
   "execution_count": 538,
   "metadata": {},
   "outputs": [
    {
     "data": {
      "image/png": "[encoded data removed]",
      "text/plain": [
       "<Figure size 432x288 with 1 Axes>"
      ]
     },
     "metadata": {},
     "output_type": "display_data"
    }
   ],
   "source": [
    "plt.scatter(X2[:, 0], X2[:, 1], c=labels, s=50, cmap='viridis')\n",
    "\n",
    "centers = kmeans.cluster_centers_\n",
    "plt.scatter(centroids[:, 0], centroids[:, 1], c='black', s=200, alpha=0.5);"
   ]
  },
  {
   "cell_type": "code",
   "execution_count": null,
   "metadata": {},
   "outputs": [],
   "source": []
  },
  {
   "cell_type": "code",
   "execution_count": null,
   "metadata": {},
   "outputs": [],
   "source": []
  }
 ],
 "metadata": {
  "kernelspec": {
   "display_name": "Python 3",
   "language": "python",
   "name": "python3"
  },
  "language_info": {
   "codemirror_mode": {
    "name": "ipython",
    "version": 3
   },
   "file_extension": ".py",
   "mimetype": "text/x-python",
   "name": "python",
   "nbconvert_exporter": "python",
   "pygments_lexer": "ipython3",
   "version": "3.6.5"
  }
 },
 "nbformat": 4,
 "nbformat_minor": 2
}
