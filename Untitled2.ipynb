{
 "cells": [
  {
   "cell_type": "code",
   "execution_count": 4,
   "metadata": {},
   "outputs": [],
   "source": [
    "import pandas as pd\n",
    "import os\n",
    "import numpy as np\n",
    "import matplotlib.pyplot as plt"
   ]
  },
  {
   "cell_type": "code",
   "execution_count": 38,
   "metadata": {},
   "outputs": [
    {
     "data": {
      "text/plain": [
       "'/home/devbox2/chetanya/dataSheets'"
      ]
     },
     "execution_count": 38,
     "metadata": {},
     "output_type": "execute_result"
    }
   ],
   "source": [
    "os.chdir(r'/home/devbox2/chetanya/dataSheets/')\n",
    "os.getcwd()"
   ]
  },
  {
   "cell_type": "code",
   "execution_count": 39,
   "metadata": {},
   "outputs": [],
   "source": [
    "data=pd.read_csv('retail_another_new_clean.csv')"
   ]
  },
  {
   "cell_type": "code",
   "execution_count": 44,
   "metadata": {},
   "outputs": [],
   "source": [
    "retail_another_new_clean_Cluster1=data[data['Cluster_index']==1]\n",
    "retail_another_new_clean_Cluster1.to_csv('retail_another_new_clean_Cluster1.csv',index=False)"
   ]
  },
  {
   "cell_type": "code",
   "execution_count": 45,
   "metadata": {},
   "outputs": [
    {
     "name": "stdout",
     "output_type": "stream",
     "text": [
      "<class 'pandas.core.frame.DataFrame'>\n",
      "Int64Index: 319340 entries, 17 to 362887\n",
      "Data columns (total 9 columns):\n",
      "InvoiceNo           319340 non-null int64\n",
      "StockCode           319340 non-null object\n",
      "Description         319340 non-null object\n",
      "Quantity            319340 non-null int64\n",
      "UnitPrice           319340 non-null float64\n",
      "CountInvoices       319340 non-null int64\n",
      "logCountInvoices    319340 non-null float64\n",
      "logUnitPrice        319340 non-null float64\n",
      "Cluster_index       319340 non-null int64\n",
      "dtypes: float64(3), int64(4), object(2)\n",
      "memory usage: 24.4+ MB\n"
     ]
    }
   ],
   "source": [
    "retail_another_new_clean_Cluster1.info()"
   ]
  },
  {
   "cell_type": "code",
   "execution_count": 32,
   "metadata": {},
   "outputs": [
    {
     "name": "stdout",
     "output_type": "stream",
     "text": [
      "<class 'pandas.core.frame.DataFrame'>\n",
      "RangeIndex: 319340 entries, 0 to 319339\n",
      "Data columns (total 8 columns):\n",
      "InvoiceNo           319340 non-null int64\n",
      "StockCode           319340 non-null object\n",
      "Description         319340 non-null object\n",
      "UnitPrice           319340 non-null float64\n",
      "CountInvoices       319340 non-null int64\n",
      "logCountInvoices    319340 non-null float64\n",
      "logUnitPrice        319340 non-null float64\n",
      "Cluster_index       319340 non-null int64\n",
      "dtypes: float64(3), int64(3), object(2)\n",
      "memory usage: 19.5+ MB\n"
     ]
    }
   ],
   "source": [
    "data2=pd.read_csv('retail_new_clean_cluster1.csv')\n",
    "data2.info()"
   ]
  },
  {
   "cell_type": "code",
   "execution_count": 56,
   "metadata": {},
   "outputs": [],
   "source": [
    "test=retail_another_new_clean_Cluster1[['InvoiceNo','Description','Quantity', 'UnitPrice']].copy()"
   ]
  },
  {
   "cell_type": "code",
   "execution_count": 68,
   "metadata": {},
   "outputs": [],
   "source": [
    "test=test.sort_values(by='InvoiceNo')"
   ]
  },
  {
   "cell_type": "code",
   "execution_count": 85,
   "metadata": {},
   "outputs": [],
   "source": [
    "test['SellingPrice']=test['Quantity']* test['UnitPrice']"
   ]
  },
  {
   "cell_type": "code",
   "execution_count": 87,
   "metadata": {},
   "outputs": [],
   "source": [
    "test.to_csv('retail_another_new_clean_Cluster1.csv',index=False)"
   ]
  },
  {
   "cell_type": "code",
   "execution_count": 89,
   "metadata": {},
   "outputs": [
    {
     "data": {
      "text/html": [
       "<div>\n",
       "<style scoped>\n",
       "    .dataframe tbody tr th:only-of-type {\n",
       "        vertical-align: middle;\n",
       "    }\n",
       "\n",
       "    .dataframe tbody tr th {\n",
       "        vertical-align: top;\n",
       "    }\n",
       "\n",
       "    .dataframe thead th {\n",
       "        text-align: right;\n",
       "    }\n",
       "</style>\n",
       "<table border=\"1\" class=\"dataframe\">\n",
       "  <thead>\n",
       "    <tr style=\"text-align: right;\">\n",
       "      <th></th>\n",
       "      <th>InvoiceNo</th>\n",
       "      <th>Description</th>\n",
       "      <th>Quantity</th>\n",
       "      <th>UnitPrice</th>\n",
       "      <th>SellingPrice</th>\n",
       "    </tr>\n",
       "  </thead>\n",
       "  <tbody>\n",
       "    <tr>\n",
       "      <th>0</th>\n",
       "      <td>536367</td>\n",
       "      <td>assortedcolourbirdornament</td>\n",
       "      <td>32</td>\n",
       "      <td>1.69</td>\n",
       "      <td>54.08</td>\n",
       "    </tr>\n",
       "    <tr>\n",
       "      <th>1</th>\n",
       "      <td>536367</td>\n",
       "      <td>feltcraftprincesscharlottedoll</td>\n",
       "      <td>8</td>\n",
       "      <td>3.75</td>\n",
       "      <td>30.00</td>\n",
       "    </tr>\n",
       "    <tr>\n",
       "      <th>2</th>\n",
       "      <td>536367</td>\n",
       "      <td>boxof6assortedcolourteaspoons</td>\n",
       "      <td>6</td>\n",
       "      <td>4.25</td>\n",
       "      <td>25.50</td>\n",
       "    </tr>\n",
       "    <tr>\n",
       "      <th>3</th>\n",
       "      <td>536367</td>\n",
       "      <td>homebuildingblockword</td>\n",
       "      <td>3</td>\n",
       "      <td>5.95</td>\n",
       "      <td>17.85</td>\n",
       "    </tr>\n",
       "    <tr>\n",
       "      <th>4</th>\n",
       "      <td>536367</td>\n",
       "      <td>lovebuildingblockword</td>\n",
       "      <td>3</td>\n",
       "      <td>5.95</td>\n",
       "      <td>17.85</td>\n",
       "    </tr>\n",
       "  </tbody>\n",
       "</table>\n",
       "</div>"
      ],
      "text/plain": [
       "   InvoiceNo                     Description  Quantity  UnitPrice  \\\n",
       "0     536367      assortedcolourbirdornament        32       1.69   \n",
       "1     536367  feltcraftprincesscharlottedoll         8       3.75   \n",
       "2     536367   boxof6assortedcolourteaspoons         6       4.25   \n",
       "3     536367           homebuildingblockword         3       5.95   \n",
       "4     536367           lovebuildingblockword         3       5.95   \n",
       "\n",
       "   SellingPrice  \n",
       "0         54.08  \n",
       "1         30.00  \n",
       "2         25.50  \n",
       "3         17.85  \n",
       "4         17.85  "
      ]
     },
     "execution_count": 89,
     "metadata": {},
     "output_type": "execute_result"
    }
   ],
   "source": [
    "test=pd.read_csv('retail_another_new_clean_Cluster1.csv')\n",
    "test.head()"
   ]
  },
  {
   "cell_type": "code",
   "execution_count": 97,
   "metadata": {},
   "outputs": [],
   "source": [
    "demo=test.groupby('InvoiceNo')['Quantity','UnitPrice','SellingPrice'].sum()"
   ]
  },
  {
   "cell_type": "code",
   "execution_count": 98,
   "metadata": {},
   "outputs": [],
   "source": [
    "demo.to_csv('salesNumbers.csv')"
   ]
  },
  {
   "cell_type": "code",
   "execution_count": 99,
   "metadata": {},
   "outputs": [],
   "source": [
    "salesNumbers=pd.read_csv('salesNumbers.csv')"
   ]
  },
  {
   "cell_type": "code",
   "execution_count": 107,
   "metadata": {},
   "outputs": [],
   "source": [
    "salesNumbers=salesNumbers.rename(columns={'Quantity':'SumQuantity','UnitPrice':'SumUnitPrice','SellingPrice':'SumSellingPrice'})"
   ]
  },
  {
   "cell_type": "code",
   "execution_count": 108,
   "metadata": {},
   "outputs": [
    {
     "data": {
      "text/html": [
       "<div>\n",
       "<style scoped>\n",
       "    .dataframe tbody tr th:only-of-type {\n",
       "        vertical-align: middle;\n",
       "    }\n",
       "\n",
       "    .dataframe tbody tr th {\n",
       "        vertical-align: top;\n",
       "    }\n",
       "\n",
       "    .dataframe thead th {\n",
       "        text-align: right;\n",
       "    }\n",
       "</style>\n",
       "<table border=\"1\" class=\"dataframe\">\n",
       "  <thead>\n",
       "    <tr style=\"text-align: right;\">\n",
       "      <th></th>\n",
       "      <th>InvoiceNo</th>\n",
       "      <th>TotalQuantity</th>\n",
       "      <th>TotalUnitPrice</th>\n",
       "      <th>TotalSellingPrice</th>\n",
       "    </tr>\n",
       "  </thead>\n",
       "  <tbody>\n",
       "    <tr>\n",
       "      <th>0</th>\n",
       "      <td>536367</td>\n",
       "      <td>68</td>\n",
       "      <td>33.74</td>\n",
       "      <td>202.28</td>\n",
       "    </tr>\n",
       "    <tr>\n",
       "      <th>1</th>\n",
       "      <td>536368</td>\n",
       "      <td>9</td>\n",
       "      <td>9.20</td>\n",
       "      <td>40.35</td>\n",
       "    </tr>\n",
       "    <tr>\n",
       "      <th>2</th>\n",
       "      <td>536369</td>\n",
       "      <td>3</td>\n",
       "      <td>5.95</td>\n",
       "      <td>17.85</td>\n",
       "    </tr>\n",
       "    <tr>\n",
       "      <th>3</th>\n",
       "      <td>536370</td>\n",
       "      <td>407</td>\n",
       "      <td>49.39</td>\n",
       "      <td>731.96</td>\n",
       "    </tr>\n",
       "    <tr>\n",
       "      <th>4</th>\n",
       "      <td>536378</td>\n",
       "      <td>192</td>\n",
       "      <td>21.80</td>\n",
       "      <td>262.40</td>\n",
       "    </tr>\n",
       "  </tbody>\n",
       "</table>\n",
       "</div>"
      ],
      "text/plain": [
       "   InvoiceNo  TotalQuantity  TotalUnitPrice  TotalSellingPrice\n",
       "0     536367             68           33.74             202.28\n",
       "1     536368              9            9.20              40.35\n",
       "2     536369              3            5.95              17.85\n",
       "3     536370            407           49.39             731.96\n",
       "4     536378            192           21.80             262.40"
      ]
     },
     "execution_count": 108,
     "metadata": {},
     "output_type": "execute_result"
    }
   ],
   "source": [
    "salesNumbers.head()"
   ]
  },
  {
   "cell_type": "code",
   "execution_count": 109,
   "metadata": {},
   "outputs": [],
   "source": [
    "final=pd.merge(test,salesNumbers)"
   ]
  },
  {
   "cell_type": "code",
   "execution_count": 112,
   "metadata": {},
   "outputs": [
    {
     "data": {
      "text/html": [
       "<div>\n",
       "<style scoped>\n",
       "    .dataframe tbody tr th:only-of-type {\n",
       "        vertical-align: middle;\n",
       "    }\n",
       "\n",
       "    .dataframe tbody tr th {\n",
       "        vertical-align: top;\n",
       "    }\n",
       "\n",
       "    .dataframe thead th {\n",
       "        text-align: right;\n",
       "    }\n",
       "</style>\n",
       "<table border=\"1\" class=\"dataframe\">\n",
       "  <thead>\n",
       "    <tr style=\"text-align: right;\">\n",
       "      <th></th>\n",
       "      <th>InvoiceNo</th>\n",
       "      <th>Description</th>\n",
       "      <th>Quantity</th>\n",
       "      <th>UnitPrice</th>\n",
       "      <th>SellingPrice</th>\n",
       "      <th>TotalQuantity</th>\n",
       "      <th>TotalUnitPrice</th>\n",
       "      <th>TotalSellingPrice</th>\n",
       "    </tr>\n",
       "  </thead>\n",
       "  <tbody>\n",
       "    <tr>\n",
       "      <th>0</th>\n",
       "      <td>536367</td>\n",
       "      <td>assortedcolourbirdornament</td>\n",
       "      <td>32</td>\n",
       "      <td>1.69</td>\n",
       "      <td>54.08</td>\n",
       "      <td>68</td>\n",
       "      <td>33.74</td>\n",
       "      <td>202.28</td>\n",
       "    </tr>\n",
       "    <tr>\n",
       "      <th>1</th>\n",
       "      <td>536367</td>\n",
       "      <td>feltcraftprincesscharlottedoll</td>\n",
       "      <td>8</td>\n",
       "      <td>3.75</td>\n",
       "      <td>30.00</td>\n",
       "      <td>68</td>\n",
       "      <td>33.74</td>\n",
       "      <td>202.28</td>\n",
       "    </tr>\n",
       "    <tr>\n",
       "      <th>2</th>\n",
       "      <td>536367</td>\n",
       "      <td>boxof6assortedcolourteaspoons</td>\n",
       "      <td>6</td>\n",
       "      <td>4.25</td>\n",
       "      <td>25.50</td>\n",
       "      <td>68</td>\n",
       "      <td>33.74</td>\n",
       "      <td>202.28</td>\n",
       "    </tr>\n",
       "    <tr>\n",
       "      <th>3</th>\n",
       "      <td>536367</td>\n",
       "      <td>homebuildingblockword</td>\n",
       "      <td>3</td>\n",
       "      <td>5.95</td>\n",
       "      <td>17.85</td>\n",
       "      <td>68</td>\n",
       "      <td>33.74</td>\n",
       "      <td>202.28</td>\n",
       "    </tr>\n",
       "    <tr>\n",
       "      <th>4</th>\n",
       "      <td>536367</td>\n",
       "      <td>lovebuildingblockword</td>\n",
       "      <td>3</td>\n",
       "      <td>5.95</td>\n",
       "      <td>17.85</td>\n",
       "      <td>68</td>\n",
       "      <td>33.74</td>\n",
       "      <td>202.28</td>\n",
       "    </tr>\n",
       "    <tr>\n",
       "      <th>5</th>\n",
       "      <td>536367</td>\n",
       "      <td>doormatnewengland</td>\n",
       "      <td>4</td>\n",
       "      <td>7.95</td>\n",
       "      <td>31.80</td>\n",
       "      <td>68</td>\n",
       "      <td>33.74</td>\n",
       "      <td>202.28</td>\n",
       "    </tr>\n",
       "    <tr>\n",
       "      <th>6</th>\n",
       "      <td>536367</td>\n",
       "      <td>poppy'splayhousekitchen</td>\n",
       "      <td>6</td>\n",
       "      <td>2.10</td>\n",
       "      <td>12.60</td>\n",
       "      <td>68</td>\n",
       "      <td>33.74</td>\n",
       "      <td>202.28</td>\n",
       "    </tr>\n",
       "    <tr>\n",
       "      <th>7</th>\n",
       "      <td>536367</td>\n",
       "      <td>poppy'splayhousebedroom</td>\n",
       "      <td>6</td>\n",
       "      <td>2.10</td>\n",
       "      <td>12.60</td>\n",
       "      <td>68</td>\n",
       "      <td>33.74</td>\n",
       "      <td>202.28</td>\n",
       "    </tr>\n",
       "    <tr>\n",
       "      <th>8</th>\n",
       "      <td>536368</td>\n",
       "      <td>bluecoatrackparisfashion</td>\n",
       "      <td>3</td>\n",
       "      <td>4.95</td>\n",
       "      <td>14.85</td>\n",
       "      <td>9</td>\n",
       "      <td>9.20</td>\n",
       "      <td>40.35</td>\n",
       "    </tr>\n",
       "    <tr>\n",
       "      <th>9</th>\n",
       "      <td>536368</td>\n",
       "      <td>jammakingsetwithjars</td>\n",
       "      <td>6</td>\n",
       "      <td>4.25</td>\n",
       "      <td>25.50</td>\n",
       "      <td>9</td>\n",
       "      <td>9.20</td>\n",
       "      <td>40.35</td>\n",
       "    </tr>\n",
       "  </tbody>\n",
       "</table>\n",
       "</div>"
      ],
      "text/plain": [
       "   InvoiceNo                     Description  Quantity  UnitPrice  \\\n",
       "0     536367      assortedcolourbirdornament        32       1.69   \n",
       "1     536367  feltcraftprincesscharlottedoll         8       3.75   \n",
       "2     536367   boxof6assortedcolourteaspoons         6       4.25   \n",
       "3     536367           homebuildingblockword         3       5.95   \n",
       "4     536367           lovebuildingblockword         3       5.95   \n",
       "5     536367               doormatnewengland         4       7.95   \n",
       "6     536367         poppy'splayhousekitchen         6       2.10   \n",
       "7     536367         poppy'splayhousebedroom         6       2.10   \n",
       "8     536368        bluecoatrackparisfashion         3       4.95   \n",
       "9     536368            jammakingsetwithjars         6       4.25   \n",
       "\n",
       "   SellingPrice  TotalQuantity  TotalUnitPrice  TotalSellingPrice  \n",
       "0         54.08             68           33.74             202.28  \n",
       "1         30.00             68           33.74             202.28  \n",
       "2         25.50             68           33.74             202.28  \n",
       "3         17.85             68           33.74             202.28  \n",
       "4         17.85             68           33.74             202.28  \n",
       "5         31.80             68           33.74             202.28  \n",
       "6         12.60             68           33.74             202.28  \n",
       "7         12.60             68           33.74             202.28  \n",
       "8         14.85              9            9.20              40.35  \n",
       "9         25.50              9            9.20              40.35  "
      ]
     },
     "execution_count": 112,
     "metadata": {},
     "output_type": "execute_result"
    }
   ],
   "source": [
    "final.head(10)"
   ]
  },
  {
   "cell_type": "code",
   "execution_count": 126,
   "metadata": {},
   "outputs": [],
   "source": [
    "rateMe=lambda x: (x/final['TotalSellingPrice'])*100"
   ]
  },
  {
   "cell_type": "code",
   "execution_count": 128,
   "metadata": {},
   "outputs": [],
   "source": [
    "final['ratings']=(final['SellingPrice']/final['TotalSellingPrice'])*100"
   ]
  },
  {
   "cell_type": "code",
   "execution_count": 129,
   "metadata": {},
   "outputs": [
    {
     "data": {
      "text/html": [
       "<div>\n",
       "<style scoped>\n",
       "    .dataframe tbody tr th:only-of-type {\n",
       "        vertical-align: middle;\n",
       "    }\n",
       "\n",
       "    .dataframe tbody tr th {\n",
       "        vertical-align: top;\n",
       "    }\n",
       "\n",
       "    .dataframe thead th {\n",
       "        text-align: right;\n",
       "    }\n",
       "</style>\n",
       "<table border=\"1\" class=\"dataframe\">\n",
       "  <thead>\n",
       "    <tr style=\"text-align: right;\">\n",
       "      <th></th>\n",
       "      <th>InvoiceNo</th>\n",
       "      <th>Description</th>\n",
       "      <th>Quantity</th>\n",
       "      <th>UnitPrice</th>\n",
       "      <th>SellingPrice</th>\n",
       "      <th>TotalQuantity</th>\n",
       "      <th>TotalUnitPrice</th>\n",
       "      <th>TotalSellingPrice</th>\n",
       "      <th>ratings</th>\n",
       "    </tr>\n",
       "  </thead>\n",
       "  <tbody>\n",
       "    <tr>\n",
       "      <th>0</th>\n",
       "      <td>536367</td>\n",
       "      <td>assortedcolourbirdornament</td>\n",
       "      <td>32</td>\n",
       "      <td>1.69</td>\n",
       "      <td>54.08</td>\n",
       "      <td>68</td>\n",
       "      <td>33.74</td>\n",
       "      <td>202.28</td>\n",
       "      <td>26.735219</td>\n",
       "    </tr>\n",
       "    <tr>\n",
       "      <th>1</th>\n",
       "      <td>536367</td>\n",
       "      <td>feltcraftprincesscharlottedoll</td>\n",
       "      <td>8</td>\n",
       "      <td>3.75</td>\n",
       "      <td>30.00</td>\n",
       "      <td>68</td>\n",
       "      <td>33.74</td>\n",
       "      <td>202.28</td>\n",
       "      <td>14.830927</td>\n",
       "    </tr>\n",
       "    <tr>\n",
       "      <th>2</th>\n",
       "      <td>536367</td>\n",
       "      <td>boxof6assortedcolourteaspoons</td>\n",
       "      <td>6</td>\n",
       "      <td>4.25</td>\n",
       "      <td>25.50</td>\n",
       "      <td>68</td>\n",
       "      <td>33.74</td>\n",
       "      <td>202.28</td>\n",
       "      <td>12.606288</td>\n",
       "    </tr>\n",
       "    <tr>\n",
       "      <th>3</th>\n",
       "      <td>536367</td>\n",
       "      <td>homebuildingblockword</td>\n",
       "      <td>3</td>\n",
       "      <td>5.95</td>\n",
       "      <td>17.85</td>\n",
       "      <td>68</td>\n",
       "      <td>33.74</td>\n",
       "      <td>202.28</td>\n",
       "      <td>8.824402</td>\n",
       "    </tr>\n",
       "    <tr>\n",
       "      <th>4</th>\n",
       "      <td>536367</td>\n",
       "      <td>lovebuildingblockword</td>\n",
       "      <td>3</td>\n",
       "      <td>5.95</td>\n",
       "      <td>17.85</td>\n",
       "      <td>68</td>\n",
       "      <td>33.74</td>\n",
       "      <td>202.28</td>\n",
       "      <td>8.824402</td>\n",
       "    </tr>\n",
       "  </tbody>\n",
       "</table>\n",
       "</div>"
      ],
      "text/plain": [
       "   InvoiceNo                     Description  Quantity  UnitPrice  \\\n",
       "0     536367      assortedcolourbirdornament        32       1.69   \n",
       "1     536367  feltcraftprincesscharlottedoll         8       3.75   \n",
       "2     536367   boxof6assortedcolourteaspoons         6       4.25   \n",
       "3     536367           homebuildingblockword         3       5.95   \n",
       "4     536367           lovebuildingblockword         3       5.95   \n",
       "\n",
       "   SellingPrice  TotalQuantity  TotalUnitPrice  TotalSellingPrice    ratings  \n",
       "0         54.08             68           33.74             202.28  26.735219  \n",
       "1         30.00             68           33.74             202.28  14.830927  \n",
       "2         25.50             68           33.74             202.28  12.606288  \n",
       "3         17.85             68           33.74             202.28   8.824402  \n",
       "4         17.85             68           33.74             202.28   8.824402  "
      ]
     },
     "execution_count": 129,
     "metadata": {},
     "output_type": "execute_result"
    }
   ],
   "source": [
    "final.head()"
   ]
  },
  {
   "cell_type": "code",
   "execution_count": 130,
   "metadata": {},
   "outputs": [],
   "source": [
    "test_model=final[['InvoiceNo','Description','ratings']]"
   ]
  },
  {
   "cell_type": "code",
   "execution_count": 132,
   "metadata": {},
   "outputs": [],
   "source": [
    "test_model.to_csv('test_model.csv',index=False)"
   ]
  },
  {
   "cell_type": "code",
   "execution_count": 133,
   "metadata": {},
   "outputs": [
    {
     "data": {
      "text/html": [
       "<div>\n",
       "<style scoped>\n",
       "    .dataframe tbody tr th:only-of-type {\n",
       "        vertical-align: middle;\n",
       "    }\n",
       "\n",
       "    .dataframe tbody tr th {\n",
       "        vertical-align: top;\n",
       "    }\n",
       "\n",
       "    .dataframe thead th {\n",
       "        text-align: right;\n",
       "    }\n",
       "</style>\n",
       "<table border=\"1\" class=\"dataframe\">\n",
       "  <thead>\n",
       "    <tr style=\"text-align: right;\">\n",
       "      <th></th>\n",
       "      <th>InvoiceNo</th>\n",
       "      <th>Description</th>\n",
       "      <th>ratings</th>\n",
       "    </tr>\n",
       "  </thead>\n",
       "  <tbody>\n",
       "    <tr>\n",
       "      <th>0</th>\n",
       "      <td>536367</td>\n",
       "      <td>assortedcolourbirdornament</td>\n",
       "      <td>26.735219</td>\n",
       "    </tr>\n",
       "    <tr>\n",
       "      <th>1</th>\n",
       "      <td>536367</td>\n",
       "      <td>feltcraftprincesscharlottedoll</td>\n",
       "      <td>14.830927</td>\n",
       "    </tr>\n",
       "    <tr>\n",
       "      <th>2</th>\n",
       "      <td>536367</td>\n",
       "      <td>boxof6assortedcolourteaspoons</td>\n",
       "      <td>12.606288</td>\n",
       "    </tr>\n",
       "    <tr>\n",
       "      <th>3</th>\n",
       "      <td>536367</td>\n",
       "      <td>homebuildingblockword</td>\n",
       "      <td>8.824402</td>\n",
       "    </tr>\n",
       "    <tr>\n",
       "      <th>4</th>\n",
       "      <td>536367</td>\n",
       "      <td>lovebuildingblockword</td>\n",
       "      <td>8.824402</td>\n",
       "    </tr>\n",
       "  </tbody>\n",
       "</table>\n",
       "</div>"
      ],
      "text/plain": [
       "   InvoiceNo                     Description    ratings\n",
       "0     536367      assortedcolourbirdornament  26.735219\n",
       "1     536367  feltcraftprincesscharlottedoll  14.830927\n",
       "2     536367   boxof6assortedcolourteaspoons  12.606288\n",
       "3     536367           homebuildingblockword   8.824402\n",
       "4     536367           lovebuildingblockword   8.824402"
      ]
     },
     "execution_count": 133,
     "metadata": {},
     "output_type": "execute_result"
    }
   ],
   "source": [
    "test_model.head()"
   ]
  },
  {
   "cell_type": "code",
   "execution_count": null,
   "metadata": {},
   "outputs": [],
   "source": []
  }
 ],
 "metadata": {
  "kernelspec": {
   "display_name": "Python 3",
   "language": "python",
   "name": "python3"
  },
  "language_info": {
   "codemirror_mode": {
    "name": "ipython",
    "version": 3
   },
   "file_extension": ".py",
   "mimetype": "text/x-python",
   "name": "python",
   "nbconvert_exporter": "python",
   "pygments_lexer": "ipython3",
   "version": "3.6.5"
  }
 },
 "nbformat": 4,
 "nbformat_minor": 2
}
