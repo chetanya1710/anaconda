{
 "cells": [
  {
   "cell_type": "code",
   "execution_count": 1,
   "metadata": {},
   "outputs": [],
   "source": [
    "import pandas as pd\n",
    "import numpy as np\n",
    "import os \n",
    "import matplotlib.pyplot as plt"
   ]
  },
  {
   "cell_type": "code",
   "execution_count": 2,
   "metadata": {},
   "outputs": [],
   "source": [
    "os.chdir(r'/home/devbox2/chetanya/dataSheets/')"
   ]
  },
  {
   "cell_type": "code",
   "execution_count": 3,
   "metadata": {},
   "outputs": [
    {
     "data": {
      "text/plain": [
       "'/home/devbox2/chetanya/dataSheets'"
      ]
     },
     "execution_count": 3,
     "metadata": {},
     "output_type": "execute_result"
    }
   ],
   "source": [
    "os.getcwd()"
   ]
  },
  {
   "cell_type": "code",
   "execution_count": 4,
   "metadata": {},
   "outputs": [],
   "source": [
    "data=pd.read_csv('retail_new_clean_cluster1.csv')"
   ]
  },
  {
   "cell_type": "code",
   "execution_count": 5,
   "metadata": {},
   "outputs": [
    {
     "data": {
      "text/html": [
       "<div>\n",
       "<style scoped>\n",
       "    .dataframe tbody tr th:only-of-type {\n",
       "        vertical-align: middle;\n",
       "    }\n",
       "\n",
       "    .dataframe tbody tr th {\n",
       "        vertical-align: top;\n",
       "    }\n",
       "\n",
       "    .dataframe thead th {\n",
       "        text-align: right;\n",
       "    }\n",
       "</style>\n",
       "<table border=\"1\" class=\"dataframe\">\n",
       "  <thead>\n",
       "    <tr style=\"text-align: right;\">\n",
       "      <th></th>\n",
       "      <th>InvoiceNo</th>\n",
       "      <th>StockCode</th>\n",
       "      <th>Description</th>\n",
       "      <th>UnitPrice</th>\n",
       "      <th>CountInvoices</th>\n",
       "      <th>logCountInvoices</th>\n",
       "      <th>logUnitPrice</th>\n",
       "      <th>Cluster_index</th>\n",
       "    </tr>\n",
       "  </thead>\n",
       "  <tbody>\n",
       "    <tr>\n",
       "      <th>0</th>\n",
       "      <td>536367</td>\n",
       "      <td>84879</td>\n",
       "      <td>assortedcolourbirdornament</td>\n",
       "      <td>1.69</td>\n",
       "      <td>1455</td>\n",
       "      <td>3.162863</td>\n",
       "      <td>0.227887</td>\n",
       "      <td>1</td>\n",
       "    </tr>\n",
       "    <tr>\n",
       "      <th>1</th>\n",
       "      <td>536392</td>\n",
       "      <td>84879</td>\n",
       "      <td>assortedcolourbirdornament</td>\n",
       "      <td>1.69</td>\n",
       "      <td>1455</td>\n",
       "      <td>3.162863</td>\n",
       "      <td>0.227887</td>\n",
       "      <td>1</td>\n",
       "    </tr>\n",
       "    <tr>\n",
       "      <th>2</th>\n",
       "      <td>536395</td>\n",
       "      <td>84879</td>\n",
       "      <td>assortedcolourbirdornament</td>\n",
       "      <td>1.69</td>\n",
       "      <td>1455</td>\n",
       "      <td>3.162863</td>\n",
       "      <td>0.227887</td>\n",
       "      <td>1</td>\n",
       "    </tr>\n",
       "    <tr>\n",
       "      <th>3</th>\n",
       "      <td>536408</td>\n",
       "      <td>84879</td>\n",
       "      <td>assortedcolourbirdornament</td>\n",
       "      <td>1.69</td>\n",
       "      <td>1455</td>\n",
       "      <td>3.162863</td>\n",
       "      <td>0.227887</td>\n",
       "      <td>1</td>\n",
       "    </tr>\n",
       "    <tr>\n",
       "      <th>4</th>\n",
       "      <td>536460</td>\n",
       "      <td>84879</td>\n",
       "      <td>assortedcolourbirdornament</td>\n",
       "      <td>1.69</td>\n",
       "      <td>1455</td>\n",
       "      <td>3.162863</td>\n",
       "      <td>0.227887</td>\n",
       "      <td>1</td>\n",
       "    </tr>\n",
       "  </tbody>\n",
       "</table>\n",
       "</div>"
      ],
      "text/plain": [
       "   InvoiceNo StockCode                 Description  UnitPrice  CountInvoices  \\\n",
       "0     536367     84879  assortedcolourbirdornament       1.69           1455   \n",
       "1     536392     84879  assortedcolourbirdornament       1.69           1455   \n",
       "2     536395     84879  assortedcolourbirdornament       1.69           1455   \n",
       "3     536408     84879  assortedcolourbirdornament       1.69           1455   \n",
       "4     536460     84879  assortedcolourbirdornament       1.69           1455   \n",
       "\n",
       "   logCountInvoices  logUnitPrice  Cluster_index  \n",
       "0          3.162863      0.227887              1  \n",
       "1          3.162863      0.227887              1  \n",
       "2          3.162863      0.227887              1  \n",
       "3          3.162863      0.227887              1  \n",
       "4          3.162863      0.227887              1  "
      ]
     },
     "execution_count": 5,
     "metadata": {},
     "output_type": "execute_result"
    }
   ],
   "source": [
    "data.head()"
   ]
  },
  {
   "cell_type": "code",
   "execution_count": 6,
   "metadata": {},
   "outputs": [
    {
     "data": {
      "image/png": "[encoded data removed]",
      "text/plain": [
       "<Figure size 432x288 with 1 Axes>"
      ]
     },
     "metadata": {},
     "output_type": "display_data"
    }
   ],
   "source": [
    "data['logCountInvoices'].plot(kind='kde')\n",
    "plt.show()"
   ]
  },
  {
   "cell_type": "code",
   "execution_count": 7,
   "metadata": {},
   "outputs": [
    {
     "data": {
      "text/plain": [
       "count    319340.000000\n",
       "mean          2.545208\n",
       "std           0.325858\n",
       "min           1.531479\n",
       "25%           2.301030\n",
       "50%           2.546543\n",
       "75%           2.783904\n",
       "max           3.354108\n",
       "Name: logCountInvoices, dtype: float64"
      ]
     },
     "execution_count": 7,
     "metadata": {},
     "output_type": "execute_result"
    }
   ],
   "source": [
    "data['logCountInvoices'].describe()"
   ]
  },
  {
   "cell_type": "code",
   "execution_count": 8,
   "metadata": {},
   "outputs": [
    {
     "data": {
      "text/plain": [
       "count    319340.000000\n",
       "mean        464.233694\n",
       "std         375.001899\n",
       "min          34.000000\n",
       "25%         200.000000\n",
       "50%         352.000000\n",
       "75%         608.000000\n",
       "max        2260.000000\n",
       "Name: CountInvoices, dtype: float64"
      ]
     },
     "execution_count": 8,
     "metadata": {},
     "output_type": "execute_result"
    }
   ],
   "source": [
    "data['CountInvoices'].describe()"
   ]
  },
  {
   "cell_type": "code",
   "execution_count": null,
   "metadata": {},
   "outputs": [],
   "source": []
  },
  {
   "cell_type": "code",
   "execution_count": 9,
   "metadata": {},
   "outputs": [],
   "source": [
    "rate_on_count=lambda x:(x/data['logCountInvoices'].max())*10"
   ]
  },
  {
   "cell_type": "code",
   "execution_count": 10,
   "metadata": {},
   "outputs": [],
   "source": [
    "data['rating']=data['logCountInvoices'].apply(rate_on_count)"
   ]
  },
  {
   "cell_type": "code",
   "execution_count": 11,
   "metadata": {},
   "outputs": [],
   "source": [
    "Invoice_Description_logCountInvoiceRating=data[['InvoiceNo','Description','rating']]"
   ]
  },
  {
   "cell_type": "code",
   "execution_count": 12,
   "metadata": {},
   "outputs": [
    {
     "data": {
      "text/html": [
       "<div>\n",
       "<style scoped>\n",
       "    .dataframe tbody tr th:only-of-type {\n",
       "        vertical-align: middle;\n",
       "    }\n",
       "\n",
       "    .dataframe tbody tr th {\n",
       "        vertical-align: top;\n",
       "    }\n",
       "\n",
       "    .dataframe thead th {\n",
       "        text-align: right;\n",
       "    }\n",
       "</style>\n",
       "<table border=\"1\" class=\"dataframe\">\n",
       "  <thead>\n",
       "    <tr style=\"text-align: right;\">\n",
       "      <th></th>\n",
       "      <th>InvoiceNo</th>\n",
       "      <th>Description</th>\n",
       "      <th>rating</th>\n",
       "    </tr>\n",
       "  </thead>\n",
       "  <tbody>\n",
       "    <tr>\n",
       "      <th>0</th>\n",
       "      <td>536367</td>\n",
       "      <td>assortedcolourbirdornament</td>\n",
       "      <td>9.429817</td>\n",
       "    </tr>\n",
       "    <tr>\n",
       "      <th>1</th>\n",
       "      <td>536392</td>\n",
       "      <td>assortedcolourbirdornament</td>\n",
       "      <td>9.429817</td>\n",
       "    </tr>\n",
       "    <tr>\n",
       "      <th>2</th>\n",
       "      <td>536395</td>\n",
       "      <td>assortedcolourbirdornament</td>\n",
       "      <td>9.429817</td>\n",
       "    </tr>\n",
       "    <tr>\n",
       "      <th>3</th>\n",
       "      <td>536408</td>\n",
       "      <td>assortedcolourbirdornament</td>\n",
       "      <td>9.429817</td>\n",
       "    </tr>\n",
       "    <tr>\n",
       "      <th>4</th>\n",
       "      <td>536460</td>\n",
       "      <td>assortedcolourbirdornament</td>\n",
       "      <td>9.429817</td>\n",
       "    </tr>\n",
       "  </tbody>\n",
       "</table>\n",
       "</div>"
      ],
      "text/plain": [
       "   InvoiceNo                 Description    rating\n",
       "0     536367  assortedcolourbirdornament  9.429817\n",
       "1     536392  assortedcolourbirdornament  9.429817\n",
       "2     536395  assortedcolourbirdornament  9.429817\n",
       "3     536408  assortedcolourbirdornament  9.429817\n",
       "4     536460  assortedcolourbirdornament  9.429817"
      ]
     },
     "execution_count": 12,
     "metadata": {},
     "output_type": "execute_result"
    }
   ],
   "source": [
    "Invoice_Description_logCountInvoiceRating.head()"
   ]
  },
  {
   "cell_type": "code",
   "execution_count": 13,
   "metadata": {},
   "outputs": [],
   "source": [
    "Invoice_Description_logCountInvoiceRating.to_csv('Invoice_Description_logCountInvoiceRating.csv', index=False)"
   ]
  },
  {
   "cell_type": "code",
   "execution_count": 14,
   "metadata": {},
   "outputs": [],
   "source": [
    "ratings=Invoice_Description_logCountInvoiceRating.sort_values(by='InvoiceNo')"
   ]
  },
  {
   "cell_type": "code",
   "execution_count": 15,
   "metadata": {},
   "outputs": [],
   "source": [
    "ratings.to_csv('Invoice_Description_logCountInvoiceRating(sorted).csv', index=False)"
   ]
  },
  {
   "cell_type": "code",
   "execution_count": 29,
   "metadata": {},
   "outputs": [],
   "source": [
    "ratings=pd.read_csv('test_model.csv')"
   ]
  },
  {
   "cell_type": "code",
   "execution_count": 30,
   "metadata": {},
   "outputs": [
    {
     "data": {
      "text/html": [
       "<div>\n",
       "<style scoped>\n",
       "    .dataframe tbody tr th:only-of-type {\n",
       "        vertical-align: middle;\n",
       "    }\n",
       "\n",
       "    .dataframe tbody tr th {\n",
       "        vertical-align: top;\n",
       "    }\n",
       "\n",
       "    .dataframe thead th {\n",
       "        text-align: right;\n",
       "    }\n",
       "</style>\n",
       "<table border=\"1\" class=\"dataframe\">\n",
       "  <thead>\n",
       "    <tr style=\"text-align: right;\">\n",
       "      <th></th>\n",
       "      <th>InvoiceNo</th>\n",
       "      <th>Description</th>\n",
       "      <th>ratings</th>\n",
       "    </tr>\n",
       "  </thead>\n",
       "  <tbody>\n",
       "    <tr>\n",
       "      <th>0</th>\n",
       "      <td>536367</td>\n",
       "      <td>assortedcolourbirdornament</td>\n",
       "      <td>26.735219</td>\n",
       "    </tr>\n",
       "    <tr>\n",
       "      <th>1</th>\n",
       "      <td>536367</td>\n",
       "      <td>feltcraftprincesscharlottedoll</td>\n",
       "      <td>14.830927</td>\n",
       "    </tr>\n",
       "    <tr>\n",
       "      <th>2</th>\n",
       "      <td>536367</td>\n",
       "      <td>boxof6assortedcolourteaspoons</td>\n",
       "      <td>12.606288</td>\n",
       "    </tr>\n",
       "    <tr>\n",
       "      <th>3</th>\n",
       "      <td>536367</td>\n",
       "      <td>homebuildingblockword</td>\n",
       "      <td>8.824402</td>\n",
       "    </tr>\n",
       "    <tr>\n",
       "      <th>4</th>\n",
       "      <td>536367</td>\n",
       "      <td>lovebuildingblockword</td>\n",
       "      <td>8.824402</td>\n",
       "    </tr>\n",
       "    <tr>\n",
       "      <th>5</th>\n",
       "      <td>536367</td>\n",
       "      <td>doormatnewengland</td>\n",
       "      <td>15.720783</td>\n",
       "    </tr>\n",
       "    <tr>\n",
       "      <th>6</th>\n",
       "      <td>536367</td>\n",
       "      <td>poppy'splayhousekitchen</td>\n",
       "      <td>6.228990</td>\n",
       "    </tr>\n",
       "    <tr>\n",
       "      <th>7</th>\n",
       "      <td>536367</td>\n",
       "      <td>poppy'splayhousebedroom</td>\n",
       "      <td>6.228990</td>\n",
       "    </tr>\n",
       "    <tr>\n",
       "      <th>8</th>\n",
       "      <td>536368</td>\n",
       "      <td>bluecoatrackparisfashion</td>\n",
       "      <td>36.802974</td>\n",
       "    </tr>\n",
       "    <tr>\n",
       "      <th>9</th>\n",
       "      <td>536368</td>\n",
       "      <td>jammakingsetwithjars</td>\n",
       "      <td>63.197026</td>\n",
       "    </tr>\n",
       "  </tbody>\n",
       "</table>\n",
       "</div>"
      ],
      "text/plain": [
       "   InvoiceNo                     Description    ratings\n",
       "0     536367      assortedcolourbirdornament  26.735219\n",
       "1     536367  feltcraftprincesscharlottedoll  14.830927\n",
       "2     536367   boxof6assortedcolourteaspoons  12.606288\n",
       "3     536367           homebuildingblockword   8.824402\n",
       "4     536367           lovebuildingblockword   8.824402\n",
       "5     536367               doormatnewengland  15.720783\n",
       "6     536367         poppy'splayhousekitchen   6.228990\n",
       "7     536367         poppy'splayhousebedroom   6.228990\n",
       "8     536368        bluecoatrackparisfashion  36.802974\n",
       "9     536368            jammakingsetwithjars  63.197026"
      ]
     },
     "execution_count": 30,
     "metadata": {},
     "output_type": "execute_result"
    }
   ],
   "source": [
    "ratings.head(10)\n"
   ]
  },
  {
   "cell_type": "code",
   "execution_count": 32,
   "metadata": {},
   "outputs": [],
   "source": [
    "matrix=ratings.pivot_table(index=['InvoiceNo'],columns=['Description'],values=['ratings']).fillna(0)"
   ]
  },
  {
   "cell_type": "code",
   "execution_count": 34,
   "metadata": {},
   "outputs": [],
   "source": [
    "matrix=matrix.ratings"
   ]
  },
  {
   "cell_type": "code",
   "execution_count": 35,
   "metadata": {},
   "outputs": [
    {
     "data": {
      "text/html": [
       "<div>\n",
       "<style scoped>\n",
       "    .dataframe tbody tr th:only-of-type {\n",
       "        vertical-align: middle;\n",
       "    }\n",
       "\n",
       "    .dataframe tbody tr th {\n",
       "        vertical-align: top;\n",
       "    }\n",
       "\n",
       "    .dataframe thead th {\n",
       "        text-align: right;\n",
       "    }\n",
       "</style>\n",
       "<table border=\"1\" class=\"dataframe\">\n",
       "  <thead>\n",
       "    <tr style=\"text-align: right;\">\n",
       "      <th>Description</th>\n",
       "      <th>10colourspaceboypen</th>\n",
       "      <th>12colouredpartyballoons</th>\n",
       "      <th>12ivoryrosepegplacesettings</th>\n",
       "      <th>12messagecardswithenvelopes</th>\n",
       "      <th>12pencilsmalltubewoodland</th>\n",
       "      <th>12pencilssmalltuberedretrospot</th>\n",
       "      <th>12pencilssmalltubeskull</th>\n",
       "      <th>12pencilstalltubeposy</th>\n",
       "      <th>12pencilstalltuberedretrospot</th>\n",
       "      <th>12pencilstalltubeskulls</th>\n",
       "      <th>...</th>\n",
       "      <th>you'reconfusingmemetalsign</th>\n",
       "      <th>yuletideimagesgiftwrapset</th>\n",
       "      <th>zincfolkartsleighbells</th>\n",
       "      <th>zincheartflowert-lightholder</th>\n",
       "      <th>zincheartlatticet-lightholder</th>\n",
       "      <th>zincherbgardencontainer</th>\n",
       "      <th>zincmetalheartdecoration</th>\n",
       "      <th>zinct-lightholderstarlarge</th>\n",
       "      <th>zinct-lightholderstarssmall</th>\n",
       "      <th>zincwilliewinkiecandlestick</th>\n",
       "    </tr>\n",
       "    <tr>\n",
       "      <th>InvoiceNo</th>\n",
       "      <th></th>\n",
       "      <th></th>\n",
       "      <th></th>\n",
       "      <th></th>\n",
       "      <th></th>\n",
       "      <th></th>\n",
       "      <th></th>\n",
       "      <th></th>\n",
       "      <th></th>\n",
       "      <th></th>\n",
       "      <th></th>\n",
       "      <th></th>\n",
       "      <th></th>\n",
       "      <th></th>\n",
       "      <th></th>\n",
       "      <th></th>\n",
       "      <th></th>\n",
       "      <th></th>\n",
       "      <th></th>\n",
       "      <th></th>\n",
       "      <th></th>\n",
       "    </tr>\n",
       "  </thead>\n",
       "  <tbody>\n",
       "    <tr>\n",
       "      <th>536367</th>\n",
       "      <td>0.0</td>\n",
       "      <td>0.0</td>\n",
       "      <td>0.0</td>\n",
       "      <td>0.0</td>\n",
       "      <td>0.0</td>\n",
       "      <td>0.0</td>\n",
       "      <td>0.0</td>\n",
       "      <td>0.0</td>\n",
       "      <td>0.0</td>\n",
       "      <td>0.0</td>\n",
       "      <td>...</td>\n",
       "      <td>0.0</td>\n",
       "      <td>0.0</td>\n",
       "      <td>0.0</td>\n",
       "      <td>0.0</td>\n",
       "      <td>0.0</td>\n",
       "      <td>0.0</td>\n",
       "      <td>0.0</td>\n",
       "      <td>0.0</td>\n",
       "      <td>0.0</td>\n",
       "      <td>0.0</td>\n",
       "    </tr>\n",
       "    <tr>\n",
       "      <th>536368</th>\n",
       "      <td>0.0</td>\n",
       "      <td>0.0</td>\n",
       "      <td>0.0</td>\n",
       "      <td>0.0</td>\n",
       "      <td>0.0</td>\n",
       "      <td>0.0</td>\n",
       "      <td>0.0</td>\n",
       "      <td>0.0</td>\n",
       "      <td>0.0</td>\n",
       "      <td>0.0</td>\n",
       "      <td>...</td>\n",
       "      <td>0.0</td>\n",
       "      <td>0.0</td>\n",
       "      <td>0.0</td>\n",
       "      <td>0.0</td>\n",
       "      <td>0.0</td>\n",
       "      <td>0.0</td>\n",
       "      <td>0.0</td>\n",
       "      <td>0.0</td>\n",
       "      <td>0.0</td>\n",
       "      <td>0.0</td>\n",
       "    </tr>\n",
       "    <tr>\n",
       "      <th>536369</th>\n",
       "      <td>0.0</td>\n",
       "      <td>0.0</td>\n",
       "      <td>0.0</td>\n",
       "      <td>0.0</td>\n",
       "      <td>0.0</td>\n",
       "      <td>0.0</td>\n",
       "      <td>0.0</td>\n",
       "      <td>0.0</td>\n",
       "      <td>0.0</td>\n",
       "      <td>0.0</td>\n",
       "      <td>...</td>\n",
       "      <td>0.0</td>\n",
       "      <td>0.0</td>\n",
       "      <td>0.0</td>\n",
       "      <td>0.0</td>\n",
       "      <td>0.0</td>\n",
       "      <td>0.0</td>\n",
       "      <td>0.0</td>\n",
       "      <td>0.0</td>\n",
       "      <td>0.0</td>\n",
       "      <td>0.0</td>\n",
       "    </tr>\n",
       "    <tr>\n",
       "      <th>536370</th>\n",
       "      <td>0.0</td>\n",
       "      <td>0.0</td>\n",
       "      <td>0.0</td>\n",
       "      <td>0.0</td>\n",
       "      <td>0.0</td>\n",
       "      <td>0.0</td>\n",
       "      <td>0.0</td>\n",
       "      <td>0.0</td>\n",
       "      <td>0.0</td>\n",
       "      <td>0.0</td>\n",
       "      <td>...</td>\n",
       "      <td>0.0</td>\n",
       "      <td>0.0</td>\n",
       "      <td>0.0</td>\n",
       "      <td>0.0</td>\n",
       "      <td>0.0</td>\n",
       "      <td>0.0</td>\n",
       "      <td>0.0</td>\n",
       "      <td>0.0</td>\n",
       "      <td>0.0</td>\n",
       "      <td>0.0</td>\n",
       "    </tr>\n",
       "    <tr>\n",
       "      <th>536378</th>\n",
       "      <td>0.0</td>\n",
       "      <td>0.0</td>\n",
       "      <td>0.0</td>\n",
       "      <td>0.0</td>\n",
       "      <td>0.0</td>\n",
       "      <td>0.0</td>\n",
       "      <td>0.0</td>\n",
       "      <td>0.0</td>\n",
       "      <td>0.0</td>\n",
       "      <td>0.0</td>\n",
       "      <td>...</td>\n",
       "      <td>0.0</td>\n",
       "      <td>0.0</td>\n",
       "      <td>0.0</td>\n",
       "      <td>0.0</td>\n",
       "      <td>0.0</td>\n",
       "      <td>0.0</td>\n",
       "      <td>0.0</td>\n",
       "      <td>0.0</td>\n",
       "      <td>0.0</td>\n",
       "      <td>0.0</td>\n",
       "    </tr>\n",
       "  </tbody>\n",
       "</table>\n",
       "<p>5 rows × 1715 columns</p>\n",
       "</div>"
      ],
      "text/plain": [
       "Description  10colourspaceboypen  12colouredpartyballoons  \\\n",
       "InvoiceNo                                                   \n",
       "536367                       0.0                      0.0   \n",
       "536368                       0.0                      0.0   \n",
       "536369                       0.0                      0.0   \n",
       "536370                       0.0                      0.0   \n",
       "536378                       0.0                      0.0   \n",
       "\n",
       "Description  12ivoryrosepegplacesettings  12messagecardswithenvelopes  \\\n",
       "InvoiceNo                                                               \n",
       "536367                               0.0                          0.0   \n",
       "536368                               0.0                          0.0   \n",
       "536369                               0.0                          0.0   \n",
       "536370                               0.0                          0.0   \n",
       "536378                               0.0                          0.0   \n",
       "\n",
       "Description  12pencilsmalltubewoodland  12pencilssmalltuberedretrospot  \\\n",
       "InvoiceNo                                                                \n",
       "536367                             0.0                             0.0   \n",
       "536368                             0.0                             0.0   \n",
       "536369                             0.0                             0.0   \n",
       "536370                             0.0                             0.0   \n",
       "536378                             0.0                             0.0   \n",
       "\n",
       "Description  12pencilssmalltubeskull  12pencilstalltubeposy  \\\n",
       "InvoiceNo                                                     \n",
       "536367                           0.0                    0.0   \n",
       "536368                           0.0                    0.0   \n",
       "536369                           0.0                    0.0   \n",
       "536370                           0.0                    0.0   \n",
       "536378                           0.0                    0.0   \n",
       "\n",
       "Description  12pencilstalltuberedretrospot  12pencilstalltubeskulls  \\\n",
       "InvoiceNo                                                             \n",
       "536367                                 0.0                      0.0   \n",
       "536368                                 0.0                      0.0   \n",
       "536369                                 0.0                      0.0   \n",
       "536370                                 0.0                      0.0   \n",
       "536378                                 0.0                      0.0   \n",
       "\n",
       "Description             ...               you'reconfusingmemetalsign  \\\n",
       "InvoiceNo               ...                                            \n",
       "536367                  ...                                      0.0   \n",
       "536368                  ...                                      0.0   \n",
       "536369                  ...                                      0.0   \n",
       "536370                  ...                                      0.0   \n",
       "536378                  ...                                      0.0   \n",
       "\n",
       "Description  yuletideimagesgiftwrapset  zincfolkartsleighbells  \\\n",
       "InvoiceNo                                                        \n",
       "536367                             0.0                     0.0   \n",
       "536368                             0.0                     0.0   \n",
       "536369                             0.0                     0.0   \n",
       "536370                             0.0                     0.0   \n",
       "536378                             0.0                     0.0   \n",
       "\n",
       "Description  zincheartflowert-lightholder  zincheartlatticet-lightholder  \\\n",
       "InvoiceNo                                                                  \n",
       "536367                                0.0                            0.0   \n",
       "536368                                0.0                            0.0   \n",
       "536369                                0.0                            0.0   \n",
       "536370                                0.0                            0.0   \n",
       "536378                                0.0                            0.0   \n",
       "\n",
       "Description  zincherbgardencontainer  zincmetalheartdecoration  \\\n",
       "InvoiceNo                                                        \n",
       "536367                           0.0                       0.0   \n",
       "536368                           0.0                       0.0   \n",
       "536369                           0.0                       0.0   \n",
       "536370                           0.0                       0.0   \n",
       "536378                           0.0                       0.0   \n",
       "\n",
       "Description  zinct-lightholderstarlarge  zinct-lightholderstarssmall  \\\n",
       "InvoiceNo                                                              \n",
       "536367                              0.0                          0.0   \n",
       "536368                              0.0                          0.0   \n",
       "536369                              0.0                          0.0   \n",
       "536370                              0.0                          0.0   \n",
       "536378                              0.0                          0.0   \n",
       "\n",
       "Description  zincwilliewinkiecandlestick  \n",
       "InvoiceNo                                 \n",
       "536367                               0.0  \n",
       "536368                               0.0  \n",
       "536369                               0.0  \n",
       "536370                               0.0  \n",
       "536378                               0.0  \n",
       "\n",
       "[5 rows x 1715 columns]"
      ]
     },
     "execution_count": 35,
     "metadata": {},
     "output_type": "execute_result"
    }
   ],
   "source": [
    "matrix.head()"
   ]
  },
  {
   "cell_type": "code",
   "execution_count": 22,
   "metadata": {},
   "outputs": [
    {
     "data": {
      "text/plain": [
       "'def pearson(s1,s2):\\n    s1_c=s1-s1.mean()\\n    s2_c=s2-s2.mean()\\n    return np.sum(s1_c*s2_c)/ np.sqrt(np.sum(s1_c**2)*np.sum(s2_c**2))\\n'"
      ]
     },
     "execution_count": 22,
     "metadata": {},
     "output_type": "execute_result"
    }
   ],
   "source": [
    "'''def pearson(s1,s2):\n",
    "    s1_c=s1-s1.mean()\n",
    "    s2_c=s2-s2.mean()\n",
    "    return np.sum(s1_c*s2_c)/ np.sqrt(np.sum(s1_c**2)*np.sum(s2_c**2))\n",
    "'''    "
   ]
  },
  {
   "cell_type": "code",
   "execution_count": 36,
   "metadata": {},
   "outputs": [],
   "source": [
    "from sklearn.metrics.pairwise import cosine_similarity"
   ]
  },
  {
   "cell_type": "code",
   "execution_count": 37,
   "metadata": {},
   "outputs": [
    {
     "data": {
      "text/plain": [
       "array([[0.00221767]])"
      ]
     },
     "execution_count": 37,
     "metadata": {},
     "output_type": "execute_result"
    }
   ],
   "source": [
    "cosine_similarity([matrix['10colourspaceboypen']], [matrix['12colouredpartyballoons']])"
   ]
  },
  {
   "cell_type": "code",
   "execution_count": 38,
   "metadata": {},
   "outputs": [],
   "source": [
    "def get_recommendations(item_name, matrix, num):\n",
    "    items=[]\n",
    "    for description in matrix.columns:\n",
    "        if description==item_name:\n",
    "            continue\n",
    "        sim=cosine_similarity([matrix[item_name]],[matrix[description]])\n",
    "        if np.isnan(sim):\n",
    "            continue\n",
    "        else:\n",
    "            items.append((description, sim))   \n",
    "        \n",
    "    items.sort(key=lambda tup: tup[1], reverse=True)\n",
    "    return items[:num]\n",
    "            "
   ]
  },
  {
   "cell_type": "code",
   "execution_count": 45,
   "metadata": {},
   "outputs": [
    {
     "name": "stdout",
     "output_type": "stream",
     "text": [
      "3.68 s ± 5.65 ms per loop (mean ± std. dev. of 7 runs, 1 loop each)\n"
     ]
    }
   ],
   "source": [
    "%timeit recs=get_recommendations('assortedcolourbirdornament', matrix, 5)"
   ]
  },
  {
   "cell_type": "code",
   "execution_count": 43,
   "metadata": {},
   "outputs": [
    {
     "data": {
      "text/plain": [
       "[('paintedmetalpearsassorted', array([[0.23212064]])),\n",
       " ('ivoryhangingdecorationegg', array([[0.10722693]])),\n",
       " ('eastertinbunnybouquet', array([[0.10047293]])),\n",
       " ('orangescentedset/9t-lights', array([[0.05927982]])),\n",
       " ('homebuildingblockword', array([[0.05431184]]))]"
      ]
     },
     "execution_count": 43,
     "metadata": {},
     "output_type": "execute_result"
    }
   ],
   "source": [
    "recs"
   ]
  },
  {
   "cell_type": "code",
   "execution_count": null,
   "metadata": {},
   "outputs": [],
   "source": []
  },
  {
   "cell_type": "code",
   "execution_count": null,
   "metadata": {},
   "outputs": [],
   "source": []
  }
 ],
 "metadata": {
  "kernelspec": {
   "display_name": "Python 3",
   "language": "python",
   "name": "python3"
  },
  "language_info": {
   "codemirror_mode": {
    "name": "ipython",
    "version": 3
   },
   "file_extension": ".py",
   "mimetype": "text/x-python",
   "name": "python",
   "nbconvert_exporter": "python",
   "pygments_lexer": "ipython3",
   "version": "3.6.5"
  }
 },
 "nbformat": 4,
 "nbformat_minor": 2
}
